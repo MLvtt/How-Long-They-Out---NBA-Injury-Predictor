{
 "metadata": {
  "language_info": {
   "codemirror_mode": {
    "name": "ipython",
    "version": 3
   },
   "file_extension": ".py",
   "mimetype": "text/x-python",
   "name": "python",
   "nbconvert_exporter": "python",
   "pygments_lexer": "ipython3",
   "version": "3.8.2"
  },
  "orig_nbformat": 4,
  "kernelspec": {
   "name": "python3",
   "display_name": "Python 3.8.2 64-bit ('base': conda)"
  },
  "interpreter": {
   "hash": "f6bdf78043db99d935f40f61a24bf6e40a19bb6491673070e840ece9dc443399"
  }
 },
 "nbformat": 4,
 "nbformat_minor": 2,
 "cells": [
  {
   "cell_type": "code",
   "execution_count": 2,
   "metadata": {},
   "outputs": [],
   "source": [
    "import re, requests\n",
    "from bs4 import BeautifulSoup\n",
    "import pandas as pd\n",
    "import numpy as np\n",
    "from gamelogs_to_mongo import format_injury_df\n",
    "from pymongo import MongoClient\n",
    "from data_cleaning import *\n",
    "import matplotlib.pyplot as plt\n",
    "\n",
    "import string\n",
    "from collections import Counter\n",
    "from nltk.tokenize import sent_tokenize, word_tokenize\n",
    "from nltk.stem.porter import PorterStemmer\n",
    "from nltk.stem.snowball import SnowballStemmer\n",
    "from nltk.stem.wordnet import WordNetLemmatizer\n",
    "from nltk.util import ngrams"
   ]
  },
  {
   "cell_type": "code",
   "execution_count": 4,
   "metadata": {},
   "outputs": [],
   "source": [
    "df0 = pd.read_pickle('../data/df.pkl')\n",
    "players = df0['bbref_id'].unique()\n",
    "df_raw = format_injury_df(df0)"
   ]
  },
  {
   "cell_type": "code",
   "execution_count": 5,
   "metadata": {},
   "outputs": [
    {
     "output_type": "execute_result",
     "data": {
      "text/plain": [
       "            Date          player     Team   Status  \\\n",
       "356   1980-10-09    Tree Rollins    Hawks  Injured   \n",
       "368   1980-11-07    Tree Rollins    Hawks  Injured   \n",
       "370   1980-11-17     Rick Mahorn  Bullets  Injured   \n",
       "377   1980-12-05       John Long  Pistons  Injured   \n",
       "387   1980-12-21       John Long  Pistons  Injured   \n",
       "...          ...             ...      ...      ...   \n",
       "62219 2021-06-07    Jordan Nwora    Bucks  Injured   \n",
       "62221 2021-06-08     Mike Conley     Jazz  Injured   \n",
       "62223 2021-06-09     Sam Merrill    Bucks  Injured   \n",
       "62237 2021-06-16      Chris Paul     Suns  Injured   \n",
       "62240 2021-06-23  Justin Jackson    Bucks  Injured   \n",
       "\n",
       "                                            Notes   bbref_id  from    to  pos  \\\n",
       "356                                  placed on IL  rollitr01  1978  1995    C   \n",
       "368                                  placed on IL  rollitr01  1978  1995    C   \n",
       "370                          sprained ankle (DTD)  mahorri01  1981  1999  C-F   \n",
       "377                                  placed on IL   longjo01  1979  1997  G-F   \n",
       "387                 placed on IL with knee injury   longjo01  1979  1997  G-F   \n",
       "...                                           ...        ...   ...   ...  ...   \n",
       "62219         placed on IL with left thigh injury  nworajo01  2021  2021    F   \n",
       "62221  placed on IL with strained right hamstring  conlemi01  2008  2021    G   \n",
       "62223      placed on IL with sprained right ankle  merrisa01  2021  2021    G   \n",
       "62237        placed on IL with COVID-19 protocols   paulch01  2006  2021    G   \n",
       "62240                  sprained right ankle (DTD)  jacksju01  2018  2021  G-F   \n",
       "\n",
       "       height  ...    age  Season  Return_Date Inj_Duration New_Inj  \\\n",
       "356        85  ...  25.32    1981   1980-10-24      15 days       1   \n",
       "368        85  ...  25.40    1981   1980-11-18      11 days       1   \n",
       "370        82  ...  22.16    1981   1980-11-21       4 days       1   \n",
       "377        77  ...  24.27    1981   1980-12-17      12 days       1   \n",
       "387        77  ...  24.32    1981   1981-01-02      12 days       1   \n",
       "...       ...  ...    ...     ...          ...          ...     ...   \n",
       "62219      80  ...  22.74    2021   2021-06-25      18 days       1   \n",
       "62221      73  ...  33.66    2021   2021-06-18      10 days       1   \n",
       "62223      76  ...  25.07    2021   2021-06-13       4 days       1   \n",
       "62237      72  ...  36.11    2021   2021-06-24       8 days       1   \n",
       "62240      80  ...  26.24    2021   2021-06-25       2 days       1   \n",
       "\n",
       "       Out_of_NBA  Career  League_Years  Num_Inj_Career  Num_Inj_Season  \n",
       "356             0       0             3               1               1  \n",
       "368             0       0             3               2               2  \n",
       "370             0       0             0               1               1  \n",
       "377             0       0             2               1               1  \n",
       "387             0       0             2               2               2  \n",
       "...           ...     ...           ...             ...             ...  \n",
       "62219           0       0             0               2               2  \n",
       "62221           0       0            13              46               9  \n",
       "62223           0       0             0               2               2  \n",
       "62237           0       0            15              43               2  \n",
       "62240           0       0             3               2               1  \n",
       "\n",
       "[43099 rows x 21 columns]"
      ],
      "text/html": "<div>\n<style scoped>\n    .dataframe tbody tr th:only-of-type {\n        vertical-align: middle;\n    }\n\n    .dataframe tbody tr th {\n        vertical-align: top;\n    }\n\n    .dataframe thead th {\n        text-align: right;\n    }\n</style>\n<table border=\"1\" class=\"dataframe\">\n  <thead>\n    <tr style=\"text-align: right;\">\n      <th></th>\n      <th>Date</th>\n      <th>player</th>\n      <th>Team</th>\n      <th>Status</th>\n      <th>Notes</th>\n      <th>bbref_id</th>\n      <th>from</th>\n      <th>to</th>\n      <th>pos</th>\n      <th>height</th>\n      <th>...</th>\n      <th>age</th>\n      <th>Season</th>\n      <th>Return_Date</th>\n      <th>Inj_Duration</th>\n      <th>New_Inj</th>\n      <th>Out_of_NBA</th>\n      <th>Career</th>\n      <th>League_Years</th>\n      <th>Num_Inj_Career</th>\n      <th>Num_Inj_Season</th>\n    </tr>\n  </thead>\n  <tbody>\n    <tr>\n      <th>356</th>\n      <td>1980-10-09</td>\n      <td>Tree Rollins</td>\n      <td>Hawks</td>\n      <td>Injured</td>\n      <td>placed on IL</td>\n      <td>rollitr01</td>\n      <td>1978</td>\n      <td>1995</td>\n      <td>C</td>\n      <td>85</td>\n      <td>...</td>\n      <td>25.32</td>\n      <td>1981</td>\n      <td>1980-10-24</td>\n      <td>15 days</td>\n      <td>1</td>\n      <td>0</td>\n      <td>0</td>\n      <td>3</td>\n      <td>1</td>\n      <td>1</td>\n    </tr>\n    <tr>\n      <th>368</th>\n      <td>1980-11-07</td>\n      <td>Tree Rollins</td>\n      <td>Hawks</td>\n      <td>Injured</td>\n      <td>placed on IL</td>\n      <td>rollitr01</td>\n      <td>1978</td>\n      <td>1995</td>\n      <td>C</td>\n      <td>85</td>\n      <td>...</td>\n      <td>25.40</td>\n      <td>1981</td>\n      <td>1980-11-18</td>\n      <td>11 days</td>\n      <td>1</td>\n      <td>0</td>\n      <td>0</td>\n      <td>3</td>\n      <td>2</td>\n      <td>2</td>\n    </tr>\n    <tr>\n      <th>370</th>\n      <td>1980-11-17</td>\n      <td>Rick Mahorn</td>\n      <td>Bullets</td>\n      <td>Injured</td>\n      <td>sprained ankle (DTD)</td>\n      <td>mahorri01</td>\n      <td>1981</td>\n      <td>1999</td>\n      <td>C-F</td>\n      <td>82</td>\n      <td>...</td>\n      <td>22.16</td>\n      <td>1981</td>\n      <td>1980-11-21</td>\n      <td>4 days</td>\n      <td>1</td>\n      <td>0</td>\n      <td>0</td>\n      <td>0</td>\n      <td>1</td>\n      <td>1</td>\n    </tr>\n    <tr>\n      <th>377</th>\n      <td>1980-12-05</td>\n      <td>John Long</td>\n      <td>Pistons</td>\n      <td>Injured</td>\n      <td>placed on IL</td>\n      <td>longjo01</td>\n      <td>1979</td>\n      <td>1997</td>\n      <td>G-F</td>\n      <td>77</td>\n      <td>...</td>\n      <td>24.27</td>\n      <td>1981</td>\n      <td>1980-12-17</td>\n      <td>12 days</td>\n      <td>1</td>\n      <td>0</td>\n      <td>0</td>\n      <td>2</td>\n      <td>1</td>\n      <td>1</td>\n    </tr>\n    <tr>\n      <th>387</th>\n      <td>1980-12-21</td>\n      <td>John Long</td>\n      <td>Pistons</td>\n      <td>Injured</td>\n      <td>placed on IL with knee injury</td>\n      <td>longjo01</td>\n      <td>1979</td>\n      <td>1997</td>\n      <td>G-F</td>\n      <td>77</td>\n      <td>...</td>\n      <td>24.32</td>\n      <td>1981</td>\n      <td>1981-01-02</td>\n      <td>12 days</td>\n      <td>1</td>\n      <td>0</td>\n      <td>0</td>\n      <td>2</td>\n      <td>2</td>\n      <td>2</td>\n    </tr>\n    <tr>\n      <th>...</th>\n      <td>...</td>\n      <td>...</td>\n      <td>...</td>\n      <td>...</td>\n      <td>...</td>\n      <td>...</td>\n      <td>...</td>\n      <td>...</td>\n      <td>...</td>\n      <td>...</td>\n      <td>...</td>\n      <td>...</td>\n      <td>...</td>\n      <td>...</td>\n      <td>...</td>\n      <td>...</td>\n      <td>...</td>\n      <td>...</td>\n      <td>...</td>\n      <td>...</td>\n      <td>...</td>\n    </tr>\n    <tr>\n      <th>62219</th>\n      <td>2021-06-07</td>\n      <td>Jordan Nwora</td>\n      <td>Bucks</td>\n      <td>Injured</td>\n      <td>placed on IL with left thigh injury</td>\n      <td>nworajo01</td>\n      <td>2021</td>\n      <td>2021</td>\n      <td>F</td>\n      <td>80</td>\n      <td>...</td>\n      <td>22.74</td>\n      <td>2021</td>\n      <td>2021-06-25</td>\n      <td>18 days</td>\n      <td>1</td>\n      <td>0</td>\n      <td>0</td>\n      <td>0</td>\n      <td>2</td>\n      <td>2</td>\n    </tr>\n    <tr>\n      <th>62221</th>\n      <td>2021-06-08</td>\n      <td>Mike Conley</td>\n      <td>Jazz</td>\n      <td>Injured</td>\n      <td>placed on IL with strained right hamstring</td>\n      <td>conlemi01</td>\n      <td>2008</td>\n      <td>2021</td>\n      <td>G</td>\n      <td>73</td>\n      <td>...</td>\n      <td>33.66</td>\n      <td>2021</td>\n      <td>2021-06-18</td>\n      <td>10 days</td>\n      <td>1</td>\n      <td>0</td>\n      <td>0</td>\n      <td>13</td>\n      <td>46</td>\n      <td>9</td>\n    </tr>\n    <tr>\n      <th>62223</th>\n      <td>2021-06-09</td>\n      <td>Sam Merrill</td>\n      <td>Bucks</td>\n      <td>Injured</td>\n      <td>placed on IL with sprained right ankle</td>\n      <td>merrisa01</td>\n      <td>2021</td>\n      <td>2021</td>\n      <td>G</td>\n      <td>76</td>\n      <td>...</td>\n      <td>25.07</td>\n      <td>2021</td>\n      <td>2021-06-13</td>\n      <td>4 days</td>\n      <td>1</td>\n      <td>0</td>\n      <td>0</td>\n      <td>0</td>\n      <td>2</td>\n      <td>2</td>\n    </tr>\n    <tr>\n      <th>62237</th>\n      <td>2021-06-16</td>\n      <td>Chris Paul</td>\n      <td>Suns</td>\n      <td>Injured</td>\n      <td>placed on IL with COVID-19 protocols</td>\n      <td>paulch01</td>\n      <td>2006</td>\n      <td>2021</td>\n      <td>G</td>\n      <td>72</td>\n      <td>...</td>\n      <td>36.11</td>\n      <td>2021</td>\n      <td>2021-06-24</td>\n      <td>8 days</td>\n      <td>1</td>\n      <td>0</td>\n      <td>0</td>\n      <td>15</td>\n      <td>43</td>\n      <td>2</td>\n    </tr>\n    <tr>\n      <th>62240</th>\n      <td>2021-06-23</td>\n      <td>Justin Jackson</td>\n      <td>Bucks</td>\n      <td>Injured</td>\n      <td>sprained right ankle (DTD)</td>\n      <td>jacksju01</td>\n      <td>2018</td>\n      <td>2021</td>\n      <td>G-F</td>\n      <td>80</td>\n      <td>...</td>\n      <td>26.24</td>\n      <td>2021</td>\n      <td>2021-06-25</td>\n      <td>2 days</td>\n      <td>1</td>\n      <td>0</td>\n      <td>0</td>\n      <td>3</td>\n      <td>2</td>\n      <td>1</td>\n    </tr>\n  </tbody>\n</table>\n<p>43099 rows × 21 columns</p>\n</div>"
     },
     "metadata": {},
     "execution_count": 5
    }
   ],
   "source": [
    "df = df_raw.copy()\n",
    "df"
   ]
  },
  {
   "cell_type": "code",
   "execution_count": 30,
   "metadata": {},
   "outputs": [],
   "source": [
    "df_new = df[df.New_Inj == True].copy()\n",
    "df_new = df_new[df_new['Date'] >= '1994-07-01']"
   ]
  },
  {
   "cell_type": "code",
   "execution_count": 31,
   "metadata": {},
   "outputs": [],
   "source": [
    "notes = df.Notes\n",
    "notes_list = notes.tolist()\n",
    "notes_new = df_new.Notes\n"
   ]
  },
  {
   "cell_type": "code",
   "execution_count": 32,
   "metadata": {},
   "outputs": [
    {
     "output_type": "execute_result",
     "data": {
      "text/plain": [
       "356                                       [placed, on, il]\n",
       "368                                       [placed, on, il]\n",
       "370                           [sprained, ankle, (, dtd, )]\n",
       "377                                       [placed, on, il]\n",
       "387                   [placed, on, il, with, knee, injury]\n",
       "                               ...                        \n",
       "62219          [placed, on, il, with, left, thigh, injury]\n",
       "62221    [placed, on, il, with, strained, right, hamstr...\n",
       "62223       [placed, on, il, with, sprained, right, ankle]\n",
       "62237          [placed, on, il, with, covid-19, protocols]\n",
       "62240                  [sprained, right, ankle, (, dtd, )]\n",
       "Name: Notes, Length: 43099, dtype: object"
      ]
     },
     "metadata": {},
     "execution_count": 32
    }
   ],
   "source": [
    "tokens = notes.apply(lambda x: word_tokenize(x.lower()))\n",
    "tokens_new = notes_new.apply(lambda x: word_tokenize(x.lower()))\n",
    "tokens"
   ]
  },
  {
   "cell_type": "code",
   "execution_count": 33,
   "metadata": {},
   "outputs": [],
   "source": [
    "stopwords_ = \"a,able,about,across,after,all,almost,also,am,among,an,and,any,\\\n",
    "are,as,at,be,because,been,but,by,can,could,dear,did,do,does,either,\\\n",
    "else,ever,every,for,from,get,got,had,has,have,he,her,hers,him,his,\\\n",
    "how,however,i,if,in,into,is,it,its,just,least,let,like,likely,may,\\\n",
    "me,might,most,must,my,neither,no,of,off,often,on,only,or,other,our,\\\n",
    "own,rather,said,say,says,she,should,since,so,some,than,that,the,their,\\\n",
    "them,then,there,these,they,this,tis,to,too,twas,us,wants,was,we,were,\\\n",
    "what,when,where,which,while,who,whom,why,will,with,would,yet,you,your\".split(',')"
   ]
  },
  {
   "cell_type": "code",
   "execution_count": 34,
   "metadata": {},
   "outputs": [
    {
     "output_type": "execute_result",
     "data": {
      "text/plain": [
       "356                                  [placed, il]\n",
       "368                                  [placed, il]\n",
       "370                        [sprained, ankle, dtd]\n",
       "377                                  [placed, il]\n",
       "387                    [placed, il, knee, injury]\n",
       "                           ...                   \n",
       "62219           [placed, il, left, thigh, injury]\n",
       "62221    [placed, il, strained, right, hamstring]\n",
       "62223        [placed, il, sprained, right, ankle]\n",
       "62237           [placed, il, covid-19, protocols]\n",
       "62240               [sprained, right, ankle, dtd]\n",
       "Name: Notes, Length: 43099, dtype: object"
      ]
     },
     "metadata": {},
     "execution_count": 34
    }
   ],
   "source": [
    "punctuation_ = set(string.punctuation)\n",
    "def filter_tokens(sent):\n",
    "    return([w for w in sent if not w in stopwords_ and not w in punctuation_])\n",
    "tokens_filtered = tokens.apply(lambda x: filter_tokens(x))\n",
    "tokens_filtered_new = tokens_new.apply(lambda x: filter_tokens(x))\n",
    "tokens_filtered"
   ]
  },
  {
   "cell_type": "code",
   "execution_count": 35,
   "metadata": {},
   "outputs": [],
   "source": [
    "stemmer_porter, stemmer_snowball, lemmatizer = PorterStemmer(), SnowballStemmer('english'),WordNetLemmatizer()\n",
    "tokens_stemporter = tokens_filtered.apply(lambda x: [stemmer_porter.stem(w) for w in x])\n",
    "tokens_stemsnowball = tokens_filtered.apply(lambda x: [stemmer_snowball.stem(w) for w in x])\n",
    "tokens_lemmatizer = tokens_filtered.apply(lambda x: [lemmatizer.lemmatize(w) for w in x])\n",
    "tokens_stemporter_new = tokens_filtered_new.apply(lambda x: [stemmer_porter.stem(w) for w in x])\n",
    "tokens_stemsnowball_new = tokens_filtered_new.apply(lambda x: [stemmer_snowball.stem(w) for w in x])\n",
    "tokens_lemmatizer_new = tokens_filtered_new.apply(lambda x: [lemmatizer.lemmatize(w) for w in x])"
   ]
  },
  {
   "cell_type": "code",
   "execution_count": 36,
   "metadata": {},
   "outputs": [
    {
     "output_type": "execute_result",
     "data": {
      "text/plain": [
       "                                              porter_new  \\\n",
       "1597         [arthroscop, surgeri, knee, out, 6-8, week]   \n",
       "1598     [surgeri, knee, repair, torn, acl, out, season]   \n",
       "1599   [surgeri, left, ankl, remov, calcium, deposit,...   \n",
       "1600   [surgeri, left, knee, remov, loos, cartilag, o...   \n",
       "1601     [stress, fractur, right, kneecap, out, 8, week]   \n",
       "...                                                  ...   \n",
       "62219                   [place, il, left, thigh, injuri]   \n",
       "62221                 [place, il, strain, right, hamstr]   \n",
       "62223                   [place, il, sprain, right, ankl]   \n",
       "62237                    [place, il, covid-19, protocol]   \n",
       "62240                         [sprain, right, ankl, dtd]   \n",
       "\n",
       "                                            snowball_new  \\\n",
       "1597         [arthroscop, surgeri, knee, out, 6-8, week]   \n",
       "1598     [surgeri, knee, repair, torn, acl, out, season]   \n",
       "1599   [surgeri, left, ankl, remov, calcium, deposit,...   \n",
       "1600   [surgeri, left, knee, remov, loos, cartilag, o...   \n",
       "1601     [stress, fractur, right, kneecap, out, 8, week]   \n",
       "...                                                  ...   \n",
       "62219                   [place, il, left, thigh, injuri]   \n",
       "62221                 [place, il, strain, right, hamstr]   \n",
       "62223                   [place, il, sprain, right, ankl]   \n",
       "62237                    [place, il, covid-19, protocol]   \n",
       "62240                         [sprain, right, ankl, dtd]   \n",
       "\n",
       "                                          lemmatizer_new  \n",
       "1597       [arthroscopic, surgery, knee, out, 6-8, week]  \n",
       "1598     [surgery, knee, repair, torn, acl, out, season]  \n",
       "1599   [surgery, left, ankle, remove, calcium, deposi...  \n",
       "1600   [surgery, left, knee, remove, loose, cartilage...  \n",
       "1601    [stress, fracture, right, kneecap, out, 8, week]  \n",
       "...                                                  ...  \n",
       "62219                  [placed, il, left, thigh, injury]  \n",
       "62221           [placed, il, strained, right, hamstring]  \n",
       "62223               [placed, il, sprained, right, ankle]  \n",
       "62237                   [placed, il, covid-19, protocol]  \n",
       "62240                      [sprained, right, ankle, dtd]  \n",
       "\n",
       "[24877 rows x 3 columns]"
      ],
      "text/html": "<div>\n<style scoped>\n    .dataframe tbody tr th:only-of-type {\n        vertical-align: middle;\n    }\n\n    .dataframe tbody tr th {\n        vertical-align: top;\n    }\n\n    .dataframe thead th {\n        text-align: right;\n    }\n</style>\n<table border=\"1\" class=\"dataframe\">\n  <thead>\n    <tr style=\"text-align: right;\">\n      <th></th>\n      <th>porter_new</th>\n      <th>snowball_new</th>\n      <th>lemmatizer_new</th>\n    </tr>\n  </thead>\n  <tbody>\n    <tr>\n      <th>1597</th>\n      <td>[arthroscop, surgeri, knee, out, 6-8, week]</td>\n      <td>[arthroscop, surgeri, knee, out, 6-8, week]</td>\n      <td>[arthroscopic, surgery, knee, out, 6-8, week]</td>\n    </tr>\n    <tr>\n      <th>1598</th>\n      <td>[surgeri, knee, repair, torn, acl, out, season]</td>\n      <td>[surgeri, knee, repair, torn, acl, out, season]</td>\n      <td>[surgery, knee, repair, torn, acl, out, season]</td>\n    </tr>\n    <tr>\n      <th>1599</th>\n      <td>[surgeri, left, ankl, remov, calcium, deposit,...</td>\n      <td>[surgeri, left, ankl, remov, calcium, deposit,...</td>\n      <td>[surgery, left, ankle, remove, calcium, deposi...</td>\n    </tr>\n    <tr>\n      <th>1600</th>\n      <td>[surgeri, left, knee, remov, loos, cartilag, o...</td>\n      <td>[surgeri, left, knee, remov, loos, cartilag, o...</td>\n      <td>[surgery, left, knee, remove, loose, cartilage...</td>\n    </tr>\n    <tr>\n      <th>1601</th>\n      <td>[stress, fractur, right, kneecap, out, 8, week]</td>\n      <td>[stress, fractur, right, kneecap, out, 8, week]</td>\n      <td>[stress, fracture, right, kneecap, out, 8, week]</td>\n    </tr>\n    <tr>\n      <th>...</th>\n      <td>...</td>\n      <td>...</td>\n      <td>...</td>\n    </tr>\n    <tr>\n      <th>62219</th>\n      <td>[place, il, left, thigh, injuri]</td>\n      <td>[place, il, left, thigh, injuri]</td>\n      <td>[placed, il, left, thigh, injury]</td>\n    </tr>\n    <tr>\n      <th>62221</th>\n      <td>[place, il, strain, right, hamstr]</td>\n      <td>[place, il, strain, right, hamstr]</td>\n      <td>[placed, il, strained, right, hamstring]</td>\n    </tr>\n    <tr>\n      <th>62223</th>\n      <td>[place, il, sprain, right, ankl]</td>\n      <td>[place, il, sprain, right, ankl]</td>\n      <td>[placed, il, sprained, right, ankle]</td>\n    </tr>\n    <tr>\n      <th>62237</th>\n      <td>[place, il, covid-19, protocol]</td>\n      <td>[place, il, covid-19, protocol]</td>\n      <td>[placed, il, covid-19, protocol]</td>\n    </tr>\n    <tr>\n      <th>62240</th>\n      <td>[sprain, right, ankl, dtd]</td>\n      <td>[sprain, right, ankl, dtd]</td>\n      <td>[sprained, right, ankle, dtd]</td>\n    </tr>\n  </tbody>\n</table>\n<p>24877 rows × 3 columns</p>\n</div>"
     },
     "metadata": {},
     "execution_count": 36
    }
   ],
   "source": [
    "stem_lemm_df = pd.DataFrame({'porter':tokens_stemporter, 'snowball':tokens_stemsnowball, 'lemmatizer': tokens_lemmatizer})\n",
    "stem_lemm_df_new = pd.DataFrame({'porter_new':tokens_stemporter_new, 'snowball_new':tokens_stemsnowball_new, 'lemmatizer_new': tokens_lemmatizer_new})\n",
    "\n",
    "\n",
    "stem_lemm_df\n",
    "stem_lemm_df_new"
   ]
  },
  {
   "cell_type": "code",
   "execution_count": 37,
   "metadata": {},
   "outputs": [
    {
     "output_type": "execute_result",
     "data": {
      "text/plain": [
       "                                    porter_new  \\\n",
       "1604      [injuri, sinu, caviti, out, 10, day]   \n",
       "1611                     [torn, achil, tendon]   \n",
       "1619             [ruptur, left, achil, tendon]   \n",
       "1632          [place, il, left, achil, tendin]   \n",
       "1712                      [stomach, viru, dnp]   \n",
       "...                                        ...   \n",
       "62057        [place, il, right, achil, injuri]   \n",
       "62061              [right, achil, injuri, dtd]   \n",
       "62084         [place, il, left, achil, injuri]   \n",
       "62129         [place, il, left, achil, injuri]   \n",
       "62211  [place, il, torn, meniscu, right, knee]   \n",
       "\n",
       "                                   snowball_new  \\\n",
       "1604      [injuri, sinus, caviti, out, 10, day]   \n",
       "1611                     [torn, achill, tendon]   \n",
       "1619             [ruptur, left, achill, tendon]   \n",
       "1632          [place, il, left, achill, tendin]   \n",
       "1712                      [stomach, virus, dnp]   \n",
       "...                                         ...   \n",
       "62057        [place, il, right, achill, injuri]   \n",
       "62061              [right, achill, injuri, dtd]   \n",
       "62084         [place, il, left, achill, injuri]   \n",
       "62129         [place, il, left, achill, injuri]   \n",
       "62211  [place, il, torn, meniscus, right, knee]   \n",
       "\n",
       "                                  lemmatizer_new  \n",
       "1604       [injury, sinus, cavity, out, 10, day]  \n",
       "1611                    [torn, achilles, tendon]  \n",
       "1619          [ruptured, left, achilles, tendon]  \n",
       "1632    [placed, il, left, achilles, tendinitis]  \n",
       "1712                       [stomach, virus, dnp]  \n",
       "...                                          ...  \n",
       "62057      [placed, il, right, achilles, injury]  \n",
       "62061             [right, achilles, injury, dtd]  \n",
       "62084       [placed, il, left, achilles, injury]  \n",
       "62129       [placed, il, left, achilles, injury]  \n",
       "62211  [placed, il, torn, meniscus, right, knee]  \n",
       "\n",
       "[721 rows x 3 columns]"
      ],
      "text/html": "<div>\n<style scoped>\n    .dataframe tbody tr th:only-of-type {\n        vertical-align: middle;\n    }\n\n    .dataframe tbody tr th {\n        vertical-align: top;\n    }\n\n    .dataframe thead th {\n        text-align: right;\n    }\n</style>\n<table border=\"1\" class=\"dataframe\">\n  <thead>\n    <tr style=\"text-align: right;\">\n      <th></th>\n      <th>porter_new</th>\n      <th>snowball_new</th>\n      <th>lemmatizer_new</th>\n    </tr>\n  </thead>\n  <tbody>\n    <tr>\n      <th>1604</th>\n      <td>[injuri, sinu, caviti, out, 10, day]</td>\n      <td>[injuri, sinus, caviti, out, 10, day]</td>\n      <td>[injury, sinus, cavity, out, 10, day]</td>\n    </tr>\n    <tr>\n      <th>1611</th>\n      <td>[torn, achil, tendon]</td>\n      <td>[torn, achill, tendon]</td>\n      <td>[torn, achilles, tendon]</td>\n    </tr>\n    <tr>\n      <th>1619</th>\n      <td>[ruptur, left, achil, tendon]</td>\n      <td>[ruptur, left, achill, tendon]</td>\n      <td>[ruptured, left, achilles, tendon]</td>\n    </tr>\n    <tr>\n      <th>1632</th>\n      <td>[place, il, left, achil, tendin]</td>\n      <td>[place, il, left, achill, tendin]</td>\n      <td>[placed, il, left, achilles, tendinitis]</td>\n    </tr>\n    <tr>\n      <th>1712</th>\n      <td>[stomach, viru, dnp]</td>\n      <td>[stomach, virus, dnp]</td>\n      <td>[stomach, virus, dnp]</td>\n    </tr>\n    <tr>\n      <th>...</th>\n      <td>...</td>\n      <td>...</td>\n      <td>...</td>\n    </tr>\n    <tr>\n      <th>62057</th>\n      <td>[place, il, right, achil, injuri]</td>\n      <td>[place, il, right, achill, injuri]</td>\n      <td>[placed, il, right, achilles, injury]</td>\n    </tr>\n    <tr>\n      <th>62061</th>\n      <td>[right, achil, injuri, dtd]</td>\n      <td>[right, achill, injuri, dtd]</td>\n      <td>[right, achilles, injury, dtd]</td>\n    </tr>\n    <tr>\n      <th>62084</th>\n      <td>[place, il, left, achil, injuri]</td>\n      <td>[place, il, left, achill, injuri]</td>\n      <td>[placed, il, left, achilles, injury]</td>\n    </tr>\n    <tr>\n      <th>62129</th>\n      <td>[place, il, left, achil, injuri]</td>\n      <td>[place, il, left, achill, injuri]</td>\n      <td>[placed, il, left, achilles, injury]</td>\n    </tr>\n    <tr>\n      <th>62211</th>\n      <td>[place, il, torn, meniscu, right, knee]</td>\n      <td>[place, il, torn, meniscus, right, knee]</td>\n      <td>[placed, il, torn, meniscus, right, knee]</td>\n    </tr>\n  </tbody>\n</table>\n<p>721 rows × 3 columns</p>\n</div>"
     },
     "metadata": {},
     "execution_count": 37
    }
   ],
   "source": [
    "stem_lemm_df[tokens_stemporter != tokens_stemsnowball]\n",
    "stem_lemm_df_new[tokens_stemporter_new != tokens_stemsnowball_new]"
   ]
  },
  {
   "cell_type": "code",
   "execution_count": 41,
   "metadata": {},
   "outputs": [
    {
     "output_type": "stream",
     "name": "stdout",
     "text": [
      "[('dnp', 18429), ('place', 16877), ('il', 16115), ('left', 12825), ('right', 12810), ('knee', 7278), ('sprain', 6715), ('ankl', 5885), ('sore', 4904), ('strain', 4834), ('dtd', 4800), ('injuri', 3702), ('back', 3168), ('out', 3074), ('surgeri', 2661), ('bruis', 2329), ('foot', 2224), ('lower', 1520), ('hamstr', 1509), ('season', 1494), ('fractur', 1437), ('torn', 1342), ('tendin', 1299), ('shoulder', 1295), ('groin', 1212), ('recov', 1124), ('spasm', 1034), ('repair', 1015), ('calf', 983), ('hip', 970), ('indefinit', 909), ('flu', 907), ('ill', 816), ('achil', 795), ('rest', 776), ('wrist', 768), ('tendon', 763), ('ir', 762), ('bone', 722), ('toe', 567), ('thumb', 564), ('hand', 545), ('week', 544), ('broken', 524), ('quadricep', 515), ('elbow', 481), ('finger', 480), ('stress', 458), ('concuss', 455), ('leg', 427), ('arthroscop', 398), ('plantar', 364), ('muscl', 363), ('abdomin', 341), ('infect', 319), ('stomach', 313), ('thigh', 306), ('big', 305), ('acl', 299), ('ligament', 293), ('remov', 292), ('p', 291), ('patella', 277), ('mcl', 275), ('heel', 270), ('neck', 268), ('meniscu', 266), ('flexor', 226), ('inflamm', 218), ('nba', 216), ('disloc', 213), ('protocol', 213), ('rib', 212), ('health', 208), ('safeti', 208)] \n\n[('dnp', 18429), ('place', 16877), ('il', 16115), ('left', 12825), ('right', 12810), ('knee', 7278), ('sprain', 6715), ('ankl', 5885), ('sore', 4904), ('strain', 4834), ('dtd', 4800), ('injuri', 3702), ('back', 3168), ('out', 3074), ('surgeri', 2661), ('bruis', 2329), ('foot', 2224), ('lower', 1520), ('hamstr', 1509), ('season', 1494), ('fractur', 1437), ('torn', 1342), ('tendin', 1299), ('shoulder', 1295), ('groin', 1212), ('recov', 1124), ('spasm', 1034), ('repair', 1015), ('calf', 983), ('hip', 970), ('indefinit', 909), ('flu', 907), ('ill', 816), ('achill', 793), ('rest', 776), ('wrist', 768), ('tendon', 763), ('ir', 762), ('bone', 722), ('toe', 567), ('thumb', 564), ('hand', 545), ('week', 544), ('broken', 524), ('quadricep', 515), ('elbow', 481), ('finger', 480), ('stress', 458), ('concuss', 455), ('leg', 427), ('arthroscop', 398), ('plantar', 364), ('muscl', 363), ('abdomin', 341), ('infect', 319), ('stomach', 313), ('thigh', 306), ('big', 305), ('acl', 299), ('ligament', 293), ('remov', 292), ('p', 291), ('patella', 277), ('mcl', 275), ('heel', 270), ('neck', 268), ('meniscus', 266), ('flexor', 226), ('inflamm', 218), ('nba', 216), ('disloc', 213), ('protocol', 213), ('rib', 212), ('health', 208), ('safeti', 208)] \n\n[('dnp', 18429), ('placed', 16871), ('il', 16115), ('left', 12825), ('right', 12810), ('knee', 7278), ('sprained', 6671), ('ankle', 5885), ('sore', 4888), ('dtd', 4800), ('strained', 4589), ('injury', 3702), ('back', 3168), ('out', 3074), ('surgery', 2661), ('foot', 2252), ('bruised', 2078), ('lower', 1520), ('hamstring', 1509), ('season', 1494), ('torn', 1342), ('tendinitis', 1299), ('shoulder', 1295), ('groin', 1212), ('recovering', 1124), ('spasm', 1034), ('repair', 1014), ('calf', 983), ('hip', 970), ('fractured', 914), ('indefinitely', 908), ('flu', 907), ('achilles', 793), ('rest', 774), ('wrist', 768), ('illness', 765), ('tendon', 762), ('ir', 762), ('bone', 722), ('toe', 567), ('thumb', 564), ('hand', 545), ('week', 544), ('broken', 524), ('fracture', 523), ('elbow', 481), ('finger', 480), ('stress', 458), ('concussion', 455), ('leg', 427), ('arthroscopic', 398), ('plantar', 364), ('muscle', 363), ('abdominal', 341), ('stomach', 313), ('thigh', 306), ('quadriceps', 306), ('big', 305), ('infection', 300), ('acl', 299), ('ligament', 293), ('p', 291), ('remove', 285), ('patella', 277), ('mcl', 275), ('heel', 270), ('neck', 268), ('meniscus', 266), ('bruise', 250), ('strain', 245), ('flexor', 226), ('inflammation', 218), ('nba', 216), ('protocol', 213), ('rib', 212)] \n\n"
     ]
    }
   ],
   "source": [
    "for token in [tokens_stemporter, tokens_stemsnowball, tokens_lemmatizer]:\n",
    "    term_occurance = Counter(x for row in token for x in row)\n",
    "    print(term_occurance.most_common(75),'\\n')"
   ]
  },
  {
   "cell_type": "code",
   "execution_count": 42,
   "metadata": {},
   "outputs": [
    {
     "output_type": "stream",
     "name": "stdout",
     "text": [
      "[('place', 11774), ('il', 11313), ('dnp', 7097), ('left', 6469), ('right', 6338), ('dtd', 4119), ('knee', 3667), ('sprain', 3497), ('ankl', 3160), ('sore', 2860), ('injuri', 2499), ('strain', 2291), ('back', 1890), ('out', 1839), ('bruis', 1333), ('foot', 973), ('lower', 840), ('tendin', 824), ('season', 815), ('hamstr', 755), ('rest', 726), ('shoulder', 712), ('flu', 696), ('surgeri', 688), ('spasm', 679), ('ill', 670), ('indefinit', 602), ('groin', 587), ('hip', 573), ('calf', 527), ('fractur', 491), ('ir', 460), ('torn', 459), ('achil', 421), ('wrist', 389), ('week', 347), ('quadricep', 316), ('toe', 305), ('tendon', 299), ('thumb', 287), ('finger', 268), ('bone', 262), ('concuss', 254), ('hand', 251), ('stomach', 244), ('elbow', 237), ('repair', 234), ('broken', 234), ('leg', 215), ('thigh', 185), ('infect', 181), ('nba', 175), ('protocol', 171), ('health', 168), ('safeti', 168), ('neck', 166), ('muscl', 158), ('patella', 155), ('viru', 155), ('plantar', 154), ('arthroscop', 153), ('big', 150), ('heel', 146), ('p', 130), ('mcl', 126), ('abdomin', 125), ('rib', 124), ('stress', 123), ('flexor', 122), ('remov', 120), ('cbc', 120), ('ligament', 113), ('inflamm', 106), ('respiratori', 105), ('symptom', 105)] \n\n[('place', 11774), ('il', 11313), ('dnp', 7097), ('left', 6469), ('right', 6338), ('dtd', 4119), ('knee', 3667), ('sprain', 3497), ('ankl', 3160), ('sore', 2860), ('injuri', 2499), ('strain', 2291), ('back', 1890), ('out', 1839), ('bruis', 1333), ('foot', 973), ('lower', 840), ('tendin', 824), ('season', 815), ('hamstr', 755), ('rest', 726), ('shoulder', 712), ('flu', 696), ('surgeri', 688), ('spasm', 679), ('ill', 670), ('indefinit', 602), ('groin', 587), ('hip', 573), ('calf', 527), ('fractur', 491), ('ir', 460), ('torn', 459), ('achill', 420), ('wrist', 389), ('week', 347), ('quadricep', 316), ('toe', 305), ('tendon', 299), ('thumb', 287), ('finger', 268), ('bone', 262), ('concuss', 254), ('hand', 251), ('stomach', 244), ('elbow', 237), ('repair', 234), ('broken', 234), ('leg', 215), ('thigh', 185), ('infect', 181), ('nba', 175), ('protocol', 171), ('health', 168), ('safeti', 168), ('neck', 166), ('muscl', 158), ('patella', 155), ('virus', 155), ('plantar', 154), ('arthroscop', 153), ('big', 150), ('heel', 146), ('p', 130), ('mcl', 126), ('abdomin', 125), ('rib', 124), ('stress', 123), ('flexor', 122), ('remov', 120), ('cbc', 120), ('ligament', 113), ('inflamm', 106), ('respiratori', 105), ('symptom', 105)] \n\n[('placed', 11771), ('il', 11313), ('dnp', 7097), ('left', 6469), ('right', 6338), ('dtd', 4119), ('knee', 3667), ('sprained', 3470), ('ankle', 3160), ('sore', 2845), ('injury', 2499), ('strained', 2186), ('back', 1890), ('out', 1839), ('bruised', 1236), ('foot', 980), ('lower', 840), ('tendinitis', 824), ('season', 815), ('hamstring', 755), ('rest', 724), ('shoulder', 712), ('flu', 696), ('surgery', 688), ('spasm', 679), ('illness', 631), ('indefinitely', 601), ('groin', 587), ('hip', 573), ('calf', 527), ('ir', 460), ('torn', 459), ('achilles', 420), ('wrist', 389), ('week', 347), ('fractured', 343), ('toe', 305), ('tendon', 298), ('thumb', 287), ('finger', 268), ('bone', 262), ('concussion', 254), ('hand', 251), ('stomach', 244), ('elbow', 237), ('repair', 234), ('broken', 234), ('leg', 215), ('thigh', 185), ('quadriceps', 182), ('nba', 175), ('protocol', 171), ('infection', 170), ('health', 168), ('safety', 168), ('neck', 166), ('muscle', 158), ('patella', 155), ('virus', 155), ('plantar', 154), ('arthroscopic', 153), ('big', 150), ('fracture', 148), ('heel', 146), ('quadricep', 134), ('p', 130), ('mcl', 126), ('abdominal', 125), ('rib', 124), ('stress', 123), ('flexor', 122), ('cbc', 120), ('remove', 114), ('ligament', 113), ('inflammation', 106)] \n\n"
     ]
    }
   ],
   "source": [
    "for token in [tokens_stemporter_new, tokens_stemsnowball_new, tokens_lemmatizer_new]:\n",
    "    term_occurance = Counter(x for row in token for x in row)\n",
    "    print(term_occurance.most_common(75),'\\n')\n"
   ]
  },
  {
   "cell_type": "code",
   "execution_count": 82,
   "metadata": {},
   "outputs": [],
   "source": [
    "def join_sent_ngrams(input_tokens, n):\n",
    "    # first add the 1-gram tokens\n",
    "    ret_list = list(input_tokens)\n",
    "    \n",
    "    #then for each n\n",
    "    for i in range(2,n+1):\n",
    "        # add each n-grams to the list\n",
    "        ret_list.extend(['-'.join(tgram) for tgram in ngrams(input_tokens, i)])\n",
    "    \n",
    "    return(ret_list)\n",
    "tokens_ngrams = list(map(lambda x : join_sent_ngrams(x, 3), tokens_stemporter_new))\n",
    "# tokens_ngrams"
   ]
  },
  {
   "cell_type": "code",
   "execution_count": 85,
   "metadata": {},
   "outputs": [
    {
     "output_type": "execute_result",
     "data": {
      "text/plain": [
       "[('place', 11774),\n",
       " ('il', 11313),\n",
       " ('place-il', 11313),\n",
       " ('dnp', 7097),\n",
       " ('left', 6469),\n",
       " ('right', 6338),\n",
       " ('dtd', 4119),\n",
       " ('knee', 3667),\n",
       " ('sprain', 3497),\n",
       " ('ankl', 3160),\n",
       " ('sore', 2860),\n",
       " ('injuri', 2499),\n",
       " ('strain', 2291),\n",
       " ('back', 1890),\n",
       " ('out', 1839),\n",
       " ('left-knee', 1671),\n",
       " ('sprain-left', 1624),\n",
       " ('right-knee', 1597),\n",
       " ('sprain-right', 1551),\n",
       " ('left-ankl', 1550),\n",
       " ('right-ankl', 1362),\n",
       " ('bruis', 1333),\n",
       " ('sprain-left-ankl', 1183),\n",
       " ('il-sprain', 1147),\n",
       " ('place-il-sprain', 1147),\n",
       " ('sore-left', 1116),\n",
       " ('ankl-dnp', 1068),\n",
       " ('sprain-right-ankl', 1051),\n",
       " ('sore-right', 1039),\n",
       " ('foot', 973),\n",
       " ('il-sore', 918),\n",
       " ('place-il-sore', 918),\n",
       " ('lower', 840),\n",
       " ('tendin', 824),\n",
       " ('season', 815),\n",
       " ('out-season', 811),\n",
       " ('strain-left', 800),\n",
       " ('il-strain', 799),\n",
       " ('place-il-strain', 799),\n",
       " ('lower-back', 778),\n",
       " ('injuri-dtd', 772),\n",
       " ('strain-right', 766),\n",
       " ('knee-dnp', 761),\n",
       " ('hamstr', 755),\n",
       " ('rest', 726),\n",
       " ('shoulder', 712),\n",
       " ('flu', 696),\n",
       " ('surgeri', 688),\n",
       " ('spasm', 679),\n",
       " ('ill', 670)]"
      ]
     },
     "metadata": {},
     "execution_count": 85
    }
   ],
   "source": [
    "term_occurance = Counter(x for row in tokens_ngrams for x in row)\n",
    "term_occurance.most_common(50)"
   ]
  },
  {
   "cell_type": "code",
   "execution_count": 78,
   "metadata": {},
   "outputs": [
    {
     "output_type": "execute_result",
     "data": {
      "text/plain": [
       "3719                         surgery on feet (out 6 weeks)\n",
       "6918                                       sore feet (DNP)\n",
       "12603                 plantar fasciatis in both feet (DNP)\n",
       "12848                                      sore feet (DNP)\n",
       "12942                 plantar fasciatis in both feet (DNP)\n",
       "16912                       placed on IL with bruised feet\n",
       "19704    underwent shockwave treatment to alleviate pai...\n",
       "Name: Notes, dtype: object"
      ]
     },
     "metadata": {},
     "execution_count": 78
    }
   ],
   "source": [
    "nsc = notes_new.str.contains\n",
    "## Injury type: Dislocation, torn, surgery, ruptured, stretched, hyperextended, separated, rest\n",
    "notes_new[(nsc('health', case=False)|nsc('protocol', case=False)|nsc('COVID', case=False))] ### COVID\n",
    "notes_new[(nsc('^ill', case=False)|nsc('illn', case=False))&nsc('chill', case=False)].values ## Illness\n",
    "# notes_new[nsc('infec', case=False)].value_counts() ## Infection\n",
    "# notes_new[nsc('broke', case=False)|nsc('frac', case=False)] ## Broken\n",
    "# notes_new[nsc('sprain', case=False)] ## Sprain\n",
    "# notes_new[nsc('strain', case=False)&~nsc('sprain', case=False)] ## Sprain\n",
    "# notes_new[nsc('brus', case=False)|nsc('bruis', case=False)|nsc('contu', case=False)] ## bruise\n",
    "# notes_new[nsc('sore', case=False)] ## Sore\n",
    "# notes_new[nsc('sick', case=False)] ## Sore\n",
    "notes_new[nsc('feet', case=False)]"
   ]
  },
  {
   "cell_type": "code",
   "execution_count": 72,
   "metadata": {},
   "outputs": [
    {
     "output_type": "execute_result",
     "data": {
      "text/plain": [
       "            Date               player          Team   Status  \\\n",
       "60790 2021-03-11          James Ennis         Magic  Injured   \n",
       "60831 2021-03-13  Matthew Dellavedova     Cavaliers  Injured   \n",
       "60856 2021-03-15          Jeremy Lamb        Pacers  Injured   \n",
       "60876 2021-03-16       Keljin Blevins       Blazers  Injured   \n",
       "60886 2021-03-17         Jalen Harris       Raptors  Injured   \n",
       "60890 2021-03-17       Sean McDermott     Grizzlies  Injured   \n",
       "60914 2021-03-18         Devon Dotson         Bulls  Injured   \n",
       "60934 2021-03-19        Udonis Haslem          Heat  Injured   \n",
       "60987 2021-03-23        Stephen Curry      Warriors  Injured   \n",
       "61007 2021-03-24    Jordan McLaughlin  Timberwolves  Injured   \n",
       "61036 2021-03-25            KZ Okpala          Heat  Injured   \n",
       "61048 2021-03-26        James Johnson      Pelicans  Injured   \n",
       "61108 2021-03-27          Rajon Rondo      Clippers  Injured   \n",
       "61124 2021-03-28         Jalen Harris       Raptors  Injured   \n",
       "61127 2021-03-28     Hassan Whiteside         Kings  Injured   \n",
       "61141 2021-03-29        Lonnie Walker         Spurs  Injured   \n",
       "61143 2021-03-29         Gorgui Dieng         Spurs  Injured   \n",
       "61147 2021-03-29       Christian Wood       Rockets  Injured   \n",
       "61173 2021-03-30          Paul George      Clippers  Injured   \n",
       "61177 2021-03-31      Sekou Doumbouya       Pistons  Injured   \n",
       "61194 2021-03-31       Keljin Blevins       Blazers  Injured   \n",
       "61217 2021-04-01     Patrick Beverley      Clippers  Injured   \n",
       "61227 2021-04-02           Kyle Lowry       Raptors  Injured   \n",
       "61265 2021-04-03       Keljin Blevins       Blazers  Injured   \n",
       "61296 2021-04-05        Mason Plumlee       Pistons  Injured   \n",
       "61340 2021-04-07         Danuel House       Rockets  Injured   \n",
       "61344 2021-04-07          Isaiah Roby       Thunder  Injured   \n",
       "61353 2021-04-07           Trey Burke     Mavericks  Injured   \n",
       "61447 2021-04-12          Kelly Oubre      Warriors  Injured   \n",
       "61492 2021-04-14       Damyean Dotson     Cavaliers  Injured   \n",
       "61505 2021-04-15      Markieff Morris        Lakers  Injured   \n",
       "61556 2021-04-18      Sekou Doumbouya       Pistons  Injured   \n",
       "61632 2021-04-21       Keljin Blevins       Blazers  Injured   \n",
       "61670 2021-04-23          Rajon Rondo      Clippers  Injured   \n",
       "61721 2021-04-26          Abdel Nader          Suns  Injured   \n",
       "61743 2021-04-26       Sean McDermott     Grizzlies  Injured   \n",
       "61806 2021-04-30          Alex Caruso        Lakers  Injured   \n",
       "61824 2021-05-01           Kyle Lowry       Raptors  Injured   \n",
       "61841 2021-05-01        Udonis Haslem          Heat  Injured   \n",
       "61947 2021-05-07       Furkan Korkmaz         76ers  Injured   \n",
       "\n",
       "                                                   Notes   bbref_id  from  \\\n",
       "60790                 placed on IL with left calf injury  ennisja01  2015   \n",
       "60831                     placed on IL with appendectomy  dellama01  2014   \n",
       "60856                   placed on IL with sore left knee   lambje01  2013   \n",
       "60876                                       placed on IL  blevike01  2021   \n",
       "60886                                       placed on IL  harrija01  2021   \n",
       "60890                                       placed on IL  mcderse01  2021   \n",
       "60914  placed on IL with NBA health and safety protocols  dotsode01  2021   \n",
       "60934              NBA health and safety protocols (DTD)  hasleud01  2004   \n",
       "60987                 placed on IL with bruised tailbone  curryst01  2010   \n",
       "61007                                 conditioning (DTD)  mclaujo01  2020   \n",
       "61036  placed on IL with NBA health and safety protocols  okpalkz01  2020   \n",
       "61048  placed on IL with NBA health and safety protocols  johnsja01  2010   \n",
       "61108            placed on IL with right adductor injury  rondora01  2007   \n",
       "61124                placed on IL with right hip pointer  harrija01  2021   \n",
       "61127                  placed on IL with sore right knee  whiteha01  2011   \n",
       "61141               placed on IL with right wrist injury  walkelo01  2019   \n",
       "61143                                       placed on IL  dienggo01  2014   \n",
       "61147                          placed on IL with illness   woodch01  2016   \n",
       "61173                  placed on IL with sore right foot  georgpa01  2011   \n",
       "61177                placed on IL with migraine headache  doumbse01  2020   \n",
       "61194                                       placed on IL  blevike01  2021   \n",
       "61217                  placed on IL with sore right knee  beverpa01  2013   \n",
       "61227                placed on IL with right foot injury  lowryky01  2007   \n",
       "61265                                       placed on IL  blevike01  2021   \n",
       "61296                                       placed on IL  plumlma01  2014   \n",
       "61340             placed on IL with sprained right ankle  houseda01  2017   \n",
       "61344                       placed on IL with concussion   robyis01  2020   \n",
       "61353               placed on IL with strained left calf  burketr01  2014   \n",
       "61447                              sore left wrist (DTD)  oubreke01  2016   \n",
       "61492                   placed on IL with sore left knee  dotsoda01  2018   \n",
       "61505              placed on IL with sprained left ankle  morrima02  2012   \n",
       "61556                       placed on IL with concussion  doumbse01  2020   \n",
       "61632  placed on IL with NBA health and safety protocols  blevike01  2021   \n",
       "61670               placed on IL with right wrist injury  rondora01  2007   \n",
       "61721           surgery on right knee (out indefinitely)  naderab01  2018   \n",
       "61743                                       placed on IL  mcderse01  2021   \n",
       "61806                      placed on IL with back spasms  carusal01  2018   \n",
       "61824                                       placed on IL  lowryky01  2007   \n",
       "61841                              stomach illness (DTD)  hasleud01  2004   \n",
       "61947             placed on IL with sprained right ankle  korkmfu01  2018   \n",
       "\n",
       "         to  pos  height  ...    age  Season  Return_Date Inj_Duration  \\\n",
       "60790  2021    F      78  ...  30.69    2021   2021-03-21      10 days   \n",
       "60831  2021    G      75  ...  30.51    2021   2021-04-01      19 days   \n",
       "60856  2021  G-F      77  ...  28.79    2021   2021-03-19       4 days   \n",
       "60876  2021    F      76  ...  25.31    2021   2021-04-02      17 days   \n",
       "60886  2021    G      77  ...  22.59    2021   2021-04-29      43 days   \n",
       "60890  2021    F      78  ...  24.37    2021   2021-03-27      10 days   \n",
       "60914  2021    G      74  ...  21.63    2021   2021-03-27       9 days   \n",
       "60934  2021  F-C      80  ...  40.78    2021   2021-05-13      55 days   \n",
       "60987  2021    G      75  ...  33.02    2021   2021-03-29       6 days   \n",
       "61007  2021    G      71  ...  24.96    2021   2021-03-26       2 days   \n",
       "61036  2021    F      80  ...  21.91    2021   2021-04-13      19 days   \n",
       "61048  2021    F      79  ...  34.10    2021   2021-04-01       6 days   \n",
       "61108  2021    G      73  ...  35.09    2021   2021-04-04       8 days   \n",
       "61124  2021    G      77  ...  22.62    2021   2021-04-29      32 days   \n",
       "61127  2021    C      84  ...  31.79    2021   2021-04-05       8 days   \n",
       "61141  2021    G      76  ...  22.29    2021   2021-04-09      11 days   \n",
       "61143  2021    C      82  ...  31.19    2021   2021-03-31       2 days   \n",
       "61147  2021    F      82  ...  25.50    2021   2021-03-31       2 days   \n",
       "61173  2021    F      80  ...  30.91    2021   2021-04-01       2 days   \n",
       "61177  2021    F      80  ...  20.27    2021   2021-04-05       5 days   \n",
       "61194  2021    F      76  ...  25.35    2021   2021-04-02       2 days   \n",
       "61217  2021    G      73  ...  32.72    2021   2021-04-06       5 days   \n",
       "61227  2021    G      72  ...  35.02    2021   2021-04-11       9 days   \n",
       "61265  2021    F      76  ...  25.36    2021   2021-04-27      24 days   \n",
       "61296  2021  C-F      83  ...  31.09    2021   2021-04-06       1 days   \n",
       "61340  2021    G      78  ...  27.83    2021   2021-04-23      16 days   \n",
       "61344  2021    F      80  ...  23.17    2021   2021-04-13       6 days   \n",
       "61353  2021    G      72  ...  28.40    2021   2021-04-11       4 days   \n",
       "61447  2021    F      79  ...  25.34    2021   2021-04-19       7 days   \n",
       "61492  2021    G      77  ...  26.94    2021   2021-04-26      12 days   \n",
       "61505  2021    F      81  ...  31.62    2021   2021-04-17       2 days   \n",
       "61556  2021    F      80  ...  20.32    2021   2021-04-22       4 days   \n",
       "61632  2021    F      76  ...  25.41    2021   2021-04-27       6 days   \n",
       "61670  2021    G      73  ...  35.17    2021   2021-04-26       3 days   \n",
       "61721  2021    F      77  ...  27.58    2021   2021-06-26      61 days   \n",
       "61743  2021    F      78  ...  24.48    2021   2021-04-30       4 days   \n",
       "61806  2021    G      76  ...  27.17    2021   2021-05-02       2 days   \n",
       "61824  2021    G      72  ...  35.10    2021   2021-05-02       1 days   \n",
       "61841  2021  F-C      80  ...  40.89    2021   2021-05-13      12 days   \n",
       "61947  2021    G      79  ...  23.79    2021   2021-05-13       6 days   \n",
       "\n",
       "      New_Inj  Out_of_NBA  Career  League_Years  Num_Inj_Career  \\\n",
       "60790       0           0       0             6              17   \n",
       "60831       0           0       0             7              17   \n",
       "60856       0           0       0             8              22   \n",
       "60876       1           0       0             0               3   \n",
       "60886       1           0       0             0               1   \n",
       "60890       1           0       0             0               3   \n",
       "60914       0           0       0             0               2   \n",
       "60934       0           0       0            17              30   \n",
       "60987       0           0       0            11              36   \n",
       "61007       0           0       0             1               2   \n",
       "61036       0           0       0             1               4   \n",
       "61048       0           0       0            11              30   \n",
       "61108       0           0       0            14              55   \n",
       "61124       0           0       0             0               1   \n",
       "61127       0           0       0            10              31   \n",
       "61141       0           0       0             2               7   \n",
       "61143       1           0       0             7               5   \n",
       "61147       0           0       0             5              12   \n",
       "61173       0           0       0            10              25   \n",
       "61177       0           0       0             1               7   \n",
       "61194       0           0       0             0               3   \n",
       "61217       0           0       0             8              32   \n",
       "61227       0           0       0            14              40   \n",
       "61265       1           0       0             0               4   \n",
       "61296       1           0       0             7               7   \n",
       "61340       0           0       0             4              16   \n",
       "61344       0           0       0             1               5   \n",
       "61353       0           0       0             7              15   \n",
       "61447       0           0       0             5               8   \n",
       "61492       0           0       0             3               6   \n",
       "61505       0           0       0             9              23   \n",
       "61556       0           0       0             1               8   \n",
       "61632       0           0       0             0               4   \n",
       "61670       0           0       0            14              57   \n",
       "61721       0           0       0             3              10   \n",
       "61743       1           0       0             0               4   \n",
       "61806       0           0       0             3              14   \n",
       "61824       1           0       0            14              41   \n",
       "61841       0           0       0            17              30   \n",
       "61947       0           0       0             3               9   \n",
       "\n",
       "       Num_Inj_Season  \n",
       "60790               3  \n",
       "60831               1  \n",
       "60856               2  \n",
       "60876               3  \n",
       "60886               1  \n",
       "60890               3  \n",
       "60914               2  \n",
       "60934               1  \n",
       "60987               2  \n",
       "61007               2  \n",
       "61036               2  \n",
       "61048               2  \n",
       "61108               5  \n",
       "61124               1  \n",
       "61127               3  \n",
       "61141               3  \n",
       "61143               1  \n",
       "61147               4  \n",
       "61173               5  \n",
       "61177               3  \n",
       "61194               3  \n",
       "61217               2  \n",
       "61227               4  \n",
       "61265               4  \n",
       "61296               2  \n",
       "61340               3  \n",
       "61344               2  \n",
       "61353               2  \n",
       "61447               2  \n",
       "61492               1  \n",
       "61505               1  \n",
       "61556               4  \n",
       "61632               4  \n",
       "61670               7  \n",
       "61721               5  \n",
       "61743               4  \n",
       "61806               5  \n",
       "61824               5  \n",
       "61841               1  \n",
       "61947               3  \n",
       "\n",
       "[40 rows x 21 columns]"
      ],
      "text/html": "<div>\n<style scoped>\n    .dataframe tbody tr th:only-of-type {\n        vertical-align: middle;\n    }\n\n    .dataframe tbody tr th {\n        vertical-align: top;\n    }\n\n    .dataframe thead th {\n        text-align: right;\n    }\n</style>\n<table border=\"1\" class=\"dataframe\">\n  <thead>\n    <tr style=\"text-align: right;\">\n      <th></th>\n      <th>Date</th>\n      <th>player</th>\n      <th>Team</th>\n      <th>Status</th>\n      <th>Notes</th>\n      <th>bbref_id</th>\n      <th>from</th>\n      <th>to</th>\n      <th>pos</th>\n      <th>height</th>\n      <th>...</th>\n      <th>age</th>\n      <th>Season</th>\n      <th>Return_Date</th>\n      <th>Inj_Duration</th>\n      <th>New_Inj</th>\n      <th>Out_of_NBA</th>\n      <th>Career</th>\n      <th>League_Years</th>\n      <th>Num_Inj_Career</th>\n      <th>Num_Inj_Season</th>\n    </tr>\n  </thead>\n  <tbody>\n    <tr>\n      <th>60790</th>\n      <td>2021-03-11</td>\n      <td>James Ennis</td>\n      <td>Magic</td>\n      <td>Injured</td>\n      <td>placed on IL with left calf injury</td>\n      <td>ennisja01</td>\n      <td>2015</td>\n      <td>2021</td>\n      <td>F</td>\n      <td>78</td>\n      <td>...</td>\n      <td>30.69</td>\n      <td>2021</td>\n      <td>2021-03-21</td>\n      <td>10 days</td>\n      <td>0</td>\n      <td>0</td>\n      <td>0</td>\n      <td>6</td>\n      <td>17</td>\n      <td>3</td>\n    </tr>\n    <tr>\n      <th>60831</th>\n      <td>2021-03-13</td>\n      <td>Matthew Dellavedova</td>\n      <td>Cavaliers</td>\n      <td>Injured</td>\n      <td>placed on IL with appendectomy</td>\n      <td>dellama01</td>\n      <td>2014</td>\n      <td>2021</td>\n      <td>G</td>\n      <td>75</td>\n      <td>...</td>\n      <td>30.51</td>\n      <td>2021</td>\n      <td>2021-04-01</td>\n      <td>19 days</td>\n      <td>0</td>\n      <td>0</td>\n      <td>0</td>\n      <td>7</td>\n      <td>17</td>\n      <td>1</td>\n    </tr>\n    <tr>\n      <th>60856</th>\n      <td>2021-03-15</td>\n      <td>Jeremy Lamb</td>\n      <td>Pacers</td>\n      <td>Injured</td>\n      <td>placed on IL with sore left knee</td>\n      <td>lambje01</td>\n      <td>2013</td>\n      <td>2021</td>\n      <td>G-F</td>\n      <td>77</td>\n      <td>...</td>\n      <td>28.79</td>\n      <td>2021</td>\n      <td>2021-03-19</td>\n      <td>4 days</td>\n      <td>0</td>\n      <td>0</td>\n      <td>0</td>\n      <td>8</td>\n      <td>22</td>\n      <td>2</td>\n    </tr>\n    <tr>\n      <th>60876</th>\n      <td>2021-03-16</td>\n      <td>Keljin Blevins</td>\n      <td>Blazers</td>\n      <td>Injured</td>\n      <td>placed on IL</td>\n      <td>blevike01</td>\n      <td>2021</td>\n      <td>2021</td>\n      <td>F</td>\n      <td>76</td>\n      <td>...</td>\n      <td>25.31</td>\n      <td>2021</td>\n      <td>2021-04-02</td>\n      <td>17 days</td>\n      <td>1</td>\n      <td>0</td>\n      <td>0</td>\n      <td>0</td>\n      <td>3</td>\n      <td>3</td>\n    </tr>\n    <tr>\n      <th>60886</th>\n      <td>2021-03-17</td>\n      <td>Jalen Harris</td>\n      <td>Raptors</td>\n      <td>Injured</td>\n      <td>placed on IL</td>\n      <td>harrija01</td>\n      <td>2021</td>\n      <td>2021</td>\n      <td>G</td>\n      <td>77</td>\n      <td>...</td>\n      <td>22.59</td>\n      <td>2021</td>\n      <td>2021-04-29</td>\n      <td>43 days</td>\n      <td>1</td>\n      <td>0</td>\n      <td>0</td>\n      <td>0</td>\n      <td>1</td>\n      <td>1</td>\n    </tr>\n    <tr>\n      <th>60890</th>\n      <td>2021-03-17</td>\n      <td>Sean McDermott</td>\n      <td>Grizzlies</td>\n      <td>Injured</td>\n      <td>placed on IL</td>\n      <td>mcderse01</td>\n      <td>2021</td>\n      <td>2021</td>\n      <td>F</td>\n      <td>78</td>\n      <td>...</td>\n      <td>24.37</td>\n      <td>2021</td>\n      <td>2021-03-27</td>\n      <td>10 days</td>\n      <td>1</td>\n      <td>0</td>\n      <td>0</td>\n      <td>0</td>\n      <td>3</td>\n      <td>3</td>\n    </tr>\n    <tr>\n      <th>60914</th>\n      <td>2021-03-18</td>\n      <td>Devon Dotson</td>\n      <td>Bulls</td>\n      <td>Injured</td>\n      <td>placed on IL with NBA health and safety protocols</td>\n      <td>dotsode01</td>\n      <td>2021</td>\n      <td>2021</td>\n      <td>G</td>\n      <td>74</td>\n      <td>...</td>\n      <td>21.63</td>\n      <td>2021</td>\n      <td>2021-03-27</td>\n      <td>9 days</td>\n      <td>0</td>\n      <td>0</td>\n      <td>0</td>\n      <td>0</td>\n      <td>2</td>\n      <td>2</td>\n    </tr>\n    <tr>\n      <th>60934</th>\n      <td>2021-03-19</td>\n      <td>Udonis Haslem</td>\n      <td>Heat</td>\n      <td>Injured</td>\n      <td>NBA health and safety protocols (DTD)</td>\n      <td>hasleud01</td>\n      <td>2004</td>\n      <td>2021</td>\n      <td>F-C</td>\n      <td>80</td>\n      <td>...</td>\n      <td>40.78</td>\n      <td>2021</td>\n      <td>2021-05-13</td>\n      <td>55 days</td>\n      <td>0</td>\n      <td>0</td>\n      <td>0</td>\n      <td>17</td>\n      <td>30</td>\n      <td>1</td>\n    </tr>\n    <tr>\n      <th>60987</th>\n      <td>2021-03-23</td>\n      <td>Stephen Curry</td>\n      <td>Warriors</td>\n      <td>Injured</td>\n      <td>placed on IL with bruised tailbone</td>\n      <td>curryst01</td>\n      <td>2010</td>\n      <td>2021</td>\n      <td>G</td>\n      <td>75</td>\n      <td>...</td>\n      <td>33.02</td>\n      <td>2021</td>\n      <td>2021-03-29</td>\n      <td>6 days</td>\n      <td>0</td>\n      <td>0</td>\n      <td>0</td>\n      <td>11</td>\n      <td>36</td>\n      <td>2</td>\n    </tr>\n    <tr>\n      <th>61007</th>\n      <td>2021-03-24</td>\n      <td>Jordan McLaughlin</td>\n      <td>Timberwolves</td>\n      <td>Injured</td>\n      <td>conditioning (DTD)</td>\n      <td>mclaujo01</td>\n      <td>2020</td>\n      <td>2021</td>\n      <td>G</td>\n      <td>71</td>\n      <td>...</td>\n      <td>24.96</td>\n      <td>2021</td>\n      <td>2021-03-26</td>\n      <td>2 days</td>\n      <td>0</td>\n      <td>0</td>\n      <td>0</td>\n      <td>1</td>\n      <td>2</td>\n      <td>2</td>\n    </tr>\n    <tr>\n      <th>61036</th>\n      <td>2021-03-25</td>\n      <td>KZ Okpala</td>\n      <td>Heat</td>\n      <td>Injured</td>\n      <td>placed on IL with NBA health and safety protocols</td>\n      <td>okpalkz01</td>\n      <td>2020</td>\n      <td>2021</td>\n      <td>F</td>\n      <td>80</td>\n      <td>...</td>\n      <td>21.91</td>\n      <td>2021</td>\n      <td>2021-04-13</td>\n      <td>19 days</td>\n      <td>0</td>\n      <td>0</td>\n      <td>0</td>\n      <td>1</td>\n      <td>4</td>\n      <td>2</td>\n    </tr>\n    <tr>\n      <th>61048</th>\n      <td>2021-03-26</td>\n      <td>James Johnson</td>\n      <td>Pelicans</td>\n      <td>Injured</td>\n      <td>placed on IL with NBA health and safety protocols</td>\n      <td>johnsja01</td>\n      <td>2010</td>\n      <td>2021</td>\n      <td>F</td>\n      <td>79</td>\n      <td>...</td>\n      <td>34.10</td>\n      <td>2021</td>\n      <td>2021-04-01</td>\n      <td>6 days</td>\n      <td>0</td>\n      <td>0</td>\n      <td>0</td>\n      <td>11</td>\n      <td>30</td>\n      <td>2</td>\n    </tr>\n    <tr>\n      <th>61108</th>\n      <td>2021-03-27</td>\n      <td>Rajon Rondo</td>\n      <td>Clippers</td>\n      <td>Injured</td>\n      <td>placed on IL with right adductor injury</td>\n      <td>rondora01</td>\n      <td>2007</td>\n      <td>2021</td>\n      <td>G</td>\n      <td>73</td>\n      <td>...</td>\n      <td>35.09</td>\n      <td>2021</td>\n      <td>2021-04-04</td>\n      <td>8 days</td>\n      <td>0</td>\n      <td>0</td>\n      <td>0</td>\n      <td>14</td>\n      <td>55</td>\n      <td>5</td>\n    </tr>\n    <tr>\n      <th>61124</th>\n      <td>2021-03-28</td>\n      <td>Jalen Harris</td>\n      <td>Raptors</td>\n      <td>Injured</td>\n      <td>placed on IL with right hip pointer</td>\n      <td>harrija01</td>\n      <td>2021</td>\n      <td>2021</td>\n      <td>G</td>\n      <td>77</td>\n      <td>...</td>\n      <td>22.62</td>\n      <td>2021</td>\n      <td>2021-04-29</td>\n      <td>32 days</td>\n      <td>0</td>\n      <td>0</td>\n      <td>0</td>\n      <td>0</td>\n      <td>1</td>\n      <td>1</td>\n    </tr>\n    <tr>\n      <th>61127</th>\n      <td>2021-03-28</td>\n      <td>Hassan Whiteside</td>\n      <td>Kings</td>\n      <td>Injured</td>\n      <td>placed on IL with sore right knee</td>\n      <td>whiteha01</td>\n      <td>2011</td>\n      <td>2021</td>\n      <td>C</td>\n      <td>84</td>\n      <td>...</td>\n      <td>31.79</td>\n      <td>2021</td>\n      <td>2021-04-05</td>\n      <td>8 days</td>\n      <td>0</td>\n      <td>0</td>\n      <td>0</td>\n      <td>10</td>\n      <td>31</td>\n      <td>3</td>\n    </tr>\n    <tr>\n      <th>61141</th>\n      <td>2021-03-29</td>\n      <td>Lonnie Walker</td>\n      <td>Spurs</td>\n      <td>Injured</td>\n      <td>placed on IL with right wrist injury</td>\n      <td>walkelo01</td>\n      <td>2019</td>\n      <td>2021</td>\n      <td>G</td>\n      <td>76</td>\n      <td>...</td>\n      <td>22.29</td>\n      <td>2021</td>\n      <td>2021-04-09</td>\n      <td>11 days</td>\n      <td>0</td>\n      <td>0</td>\n      <td>0</td>\n      <td>2</td>\n      <td>7</td>\n      <td>3</td>\n    </tr>\n    <tr>\n      <th>61143</th>\n      <td>2021-03-29</td>\n      <td>Gorgui Dieng</td>\n      <td>Spurs</td>\n      <td>Injured</td>\n      <td>placed on IL</td>\n      <td>dienggo01</td>\n      <td>2014</td>\n      <td>2021</td>\n      <td>C</td>\n      <td>82</td>\n      <td>...</td>\n      <td>31.19</td>\n      <td>2021</td>\n      <td>2021-03-31</td>\n      <td>2 days</td>\n      <td>1</td>\n      <td>0</td>\n      <td>0</td>\n      <td>7</td>\n      <td>5</td>\n      <td>1</td>\n    </tr>\n    <tr>\n      <th>61147</th>\n      <td>2021-03-29</td>\n      <td>Christian Wood</td>\n      <td>Rockets</td>\n      <td>Injured</td>\n      <td>placed on IL with illness</td>\n      <td>woodch01</td>\n      <td>2016</td>\n      <td>2021</td>\n      <td>F</td>\n      <td>82</td>\n      <td>...</td>\n      <td>25.50</td>\n      <td>2021</td>\n      <td>2021-03-31</td>\n      <td>2 days</td>\n      <td>0</td>\n      <td>0</td>\n      <td>0</td>\n      <td>5</td>\n      <td>12</td>\n      <td>4</td>\n    </tr>\n    <tr>\n      <th>61173</th>\n      <td>2021-03-30</td>\n      <td>Paul George</td>\n      <td>Clippers</td>\n      <td>Injured</td>\n      <td>placed on IL with sore right foot</td>\n      <td>georgpa01</td>\n      <td>2011</td>\n      <td>2021</td>\n      <td>F</td>\n      <td>80</td>\n      <td>...</td>\n      <td>30.91</td>\n      <td>2021</td>\n      <td>2021-04-01</td>\n      <td>2 days</td>\n      <td>0</td>\n      <td>0</td>\n      <td>0</td>\n      <td>10</td>\n      <td>25</td>\n      <td>5</td>\n    </tr>\n    <tr>\n      <th>61177</th>\n      <td>2021-03-31</td>\n      <td>Sekou Doumbouya</td>\n      <td>Pistons</td>\n      <td>Injured</td>\n      <td>placed on IL with migraine headache</td>\n      <td>doumbse01</td>\n      <td>2020</td>\n      <td>2021</td>\n      <td>F</td>\n      <td>80</td>\n      <td>...</td>\n      <td>20.27</td>\n      <td>2021</td>\n      <td>2021-04-05</td>\n      <td>5 days</td>\n      <td>0</td>\n      <td>0</td>\n      <td>0</td>\n      <td>1</td>\n      <td>7</td>\n      <td>3</td>\n    </tr>\n    <tr>\n      <th>61194</th>\n      <td>2021-03-31</td>\n      <td>Keljin Blevins</td>\n      <td>Blazers</td>\n      <td>Injured</td>\n      <td>placed on IL</td>\n      <td>blevike01</td>\n      <td>2021</td>\n      <td>2021</td>\n      <td>F</td>\n      <td>76</td>\n      <td>...</td>\n      <td>25.35</td>\n      <td>2021</td>\n      <td>2021-04-02</td>\n      <td>2 days</td>\n      <td>0</td>\n      <td>0</td>\n      <td>0</td>\n      <td>0</td>\n      <td>3</td>\n      <td>3</td>\n    </tr>\n    <tr>\n      <th>61217</th>\n      <td>2021-04-01</td>\n      <td>Patrick Beverley</td>\n      <td>Clippers</td>\n      <td>Injured</td>\n      <td>placed on IL with sore right knee</td>\n      <td>beverpa01</td>\n      <td>2013</td>\n      <td>2021</td>\n      <td>G</td>\n      <td>73</td>\n      <td>...</td>\n      <td>32.72</td>\n      <td>2021</td>\n      <td>2021-04-06</td>\n      <td>5 days</td>\n      <td>0</td>\n      <td>0</td>\n      <td>0</td>\n      <td>8</td>\n      <td>32</td>\n      <td>2</td>\n    </tr>\n    <tr>\n      <th>61227</th>\n      <td>2021-04-02</td>\n      <td>Kyle Lowry</td>\n      <td>Raptors</td>\n      <td>Injured</td>\n      <td>placed on IL with right foot injury</td>\n      <td>lowryky01</td>\n      <td>2007</td>\n      <td>2021</td>\n      <td>G</td>\n      <td>72</td>\n      <td>...</td>\n      <td>35.02</td>\n      <td>2021</td>\n      <td>2021-04-11</td>\n      <td>9 days</td>\n      <td>0</td>\n      <td>0</td>\n      <td>0</td>\n      <td>14</td>\n      <td>40</td>\n      <td>4</td>\n    </tr>\n    <tr>\n      <th>61265</th>\n      <td>2021-04-03</td>\n      <td>Keljin Blevins</td>\n      <td>Blazers</td>\n      <td>Injured</td>\n      <td>placed on IL</td>\n      <td>blevike01</td>\n      <td>2021</td>\n      <td>2021</td>\n      <td>F</td>\n      <td>76</td>\n      <td>...</td>\n      <td>25.36</td>\n      <td>2021</td>\n      <td>2021-04-27</td>\n      <td>24 days</td>\n      <td>1</td>\n      <td>0</td>\n      <td>0</td>\n      <td>0</td>\n      <td>4</td>\n      <td>4</td>\n    </tr>\n    <tr>\n      <th>61296</th>\n      <td>2021-04-05</td>\n      <td>Mason Plumlee</td>\n      <td>Pistons</td>\n      <td>Injured</td>\n      <td>placed on IL</td>\n      <td>plumlma01</td>\n      <td>2014</td>\n      <td>2021</td>\n      <td>C-F</td>\n      <td>83</td>\n      <td>...</td>\n      <td>31.09</td>\n      <td>2021</td>\n      <td>2021-04-06</td>\n      <td>1 days</td>\n      <td>1</td>\n      <td>0</td>\n      <td>0</td>\n      <td>7</td>\n      <td>7</td>\n      <td>2</td>\n    </tr>\n    <tr>\n      <th>61340</th>\n      <td>2021-04-07</td>\n      <td>Danuel House</td>\n      <td>Rockets</td>\n      <td>Injured</td>\n      <td>placed on IL with sprained right ankle</td>\n      <td>houseda01</td>\n      <td>2017</td>\n      <td>2021</td>\n      <td>G</td>\n      <td>78</td>\n      <td>...</td>\n      <td>27.83</td>\n      <td>2021</td>\n      <td>2021-04-23</td>\n      <td>16 days</td>\n      <td>0</td>\n      <td>0</td>\n      <td>0</td>\n      <td>4</td>\n      <td>16</td>\n      <td>3</td>\n    </tr>\n    <tr>\n      <th>61344</th>\n      <td>2021-04-07</td>\n      <td>Isaiah Roby</td>\n      <td>Thunder</td>\n      <td>Injured</td>\n      <td>placed on IL with concussion</td>\n      <td>robyis01</td>\n      <td>2020</td>\n      <td>2021</td>\n      <td>F</td>\n      <td>80</td>\n      <td>...</td>\n      <td>23.17</td>\n      <td>2021</td>\n      <td>2021-04-13</td>\n      <td>6 days</td>\n      <td>0</td>\n      <td>0</td>\n      <td>0</td>\n      <td>1</td>\n      <td>5</td>\n      <td>2</td>\n    </tr>\n    <tr>\n      <th>61353</th>\n      <td>2021-04-07</td>\n      <td>Trey Burke</td>\n      <td>Mavericks</td>\n      <td>Injured</td>\n      <td>placed on IL with strained left calf</td>\n      <td>burketr01</td>\n      <td>2014</td>\n      <td>2021</td>\n      <td>G</td>\n      <td>72</td>\n      <td>...</td>\n      <td>28.40</td>\n      <td>2021</td>\n      <td>2021-04-11</td>\n      <td>4 days</td>\n      <td>0</td>\n      <td>0</td>\n      <td>0</td>\n      <td>7</td>\n      <td>15</td>\n      <td>2</td>\n    </tr>\n    <tr>\n      <th>61447</th>\n      <td>2021-04-12</td>\n      <td>Kelly Oubre</td>\n      <td>Warriors</td>\n      <td>Injured</td>\n      <td>sore left wrist (DTD)</td>\n      <td>oubreke01</td>\n      <td>2016</td>\n      <td>2021</td>\n      <td>F</td>\n      <td>79</td>\n      <td>...</td>\n      <td>25.34</td>\n      <td>2021</td>\n      <td>2021-04-19</td>\n      <td>7 days</td>\n      <td>0</td>\n      <td>0</td>\n      <td>0</td>\n      <td>5</td>\n      <td>8</td>\n      <td>2</td>\n    </tr>\n    <tr>\n      <th>61492</th>\n      <td>2021-04-14</td>\n      <td>Damyean Dotson</td>\n      <td>Cavaliers</td>\n      <td>Injured</td>\n      <td>placed on IL with sore left knee</td>\n      <td>dotsoda01</td>\n      <td>2018</td>\n      <td>2021</td>\n      <td>G</td>\n      <td>77</td>\n      <td>...</td>\n      <td>26.94</td>\n      <td>2021</td>\n      <td>2021-04-26</td>\n      <td>12 days</td>\n      <td>0</td>\n      <td>0</td>\n      <td>0</td>\n      <td>3</td>\n      <td>6</td>\n      <td>1</td>\n    </tr>\n    <tr>\n      <th>61505</th>\n      <td>2021-04-15</td>\n      <td>Markieff Morris</td>\n      <td>Lakers</td>\n      <td>Injured</td>\n      <td>placed on IL with sprained left ankle</td>\n      <td>morrima02</td>\n      <td>2012</td>\n      <td>2021</td>\n      <td>F</td>\n      <td>81</td>\n      <td>...</td>\n      <td>31.62</td>\n      <td>2021</td>\n      <td>2021-04-17</td>\n      <td>2 days</td>\n      <td>0</td>\n      <td>0</td>\n      <td>0</td>\n      <td>9</td>\n      <td>23</td>\n      <td>1</td>\n    </tr>\n    <tr>\n      <th>61556</th>\n      <td>2021-04-18</td>\n      <td>Sekou Doumbouya</td>\n      <td>Pistons</td>\n      <td>Injured</td>\n      <td>placed on IL with concussion</td>\n      <td>doumbse01</td>\n      <td>2020</td>\n      <td>2021</td>\n      <td>F</td>\n      <td>80</td>\n      <td>...</td>\n      <td>20.32</td>\n      <td>2021</td>\n      <td>2021-04-22</td>\n      <td>4 days</td>\n      <td>0</td>\n      <td>0</td>\n      <td>0</td>\n      <td>1</td>\n      <td>8</td>\n      <td>4</td>\n    </tr>\n    <tr>\n      <th>61632</th>\n      <td>2021-04-21</td>\n      <td>Keljin Blevins</td>\n      <td>Blazers</td>\n      <td>Injured</td>\n      <td>placed on IL with NBA health and safety protocols</td>\n      <td>blevike01</td>\n      <td>2021</td>\n      <td>2021</td>\n      <td>F</td>\n      <td>76</td>\n      <td>...</td>\n      <td>25.41</td>\n      <td>2021</td>\n      <td>2021-04-27</td>\n      <td>6 days</td>\n      <td>0</td>\n      <td>0</td>\n      <td>0</td>\n      <td>0</td>\n      <td>4</td>\n      <td>4</td>\n    </tr>\n    <tr>\n      <th>61670</th>\n      <td>2021-04-23</td>\n      <td>Rajon Rondo</td>\n      <td>Clippers</td>\n      <td>Injured</td>\n      <td>placed on IL with right wrist injury</td>\n      <td>rondora01</td>\n      <td>2007</td>\n      <td>2021</td>\n      <td>G</td>\n      <td>73</td>\n      <td>...</td>\n      <td>35.17</td>\n      <td>2021</td>\n      <td>2021-04-26</td>\n      <td>3 days</td>\n      <td>0</td>\n      <td>0</td>\n      <td>0</td>\n      <td>14</td>\n      <td>57</td>\n      <td>7</td>\n    </tr>\n    <tr>\n      <th>61721</th>\n      <td>2021-04-26</td>\n      <td>Abdel Nader</td>\n      <td>Suns</td>\n      <td>Injured</td>\n      <td>surgery on right knee (out indefinitely)</td>\n      <td>naderab01</td>\n      <td>2018</td>\n      <td>2021</td>\n      <td>F</td>\n      <td>77</td>\n      <td>...</td>\n      <td>27.58</td>\n      <td>2021</td>\n      <td>2021-06-26</td>\n      <td>61 days</td>\n      <td>0</td>\n      <td>0</td>\n      <td>0</td>\n      <td>3</td>\n      <td>10</td>\n      <td>5</td>\n    </tr>\n    <tr>\n      <th>61743</th>\n      <td>2021-04-26</td>\n      <td>Sean McDermott</td>\n      <td>Grizzlies</td>\n      <td>Injured</td>\n      <td>placed on IL</td>\n      <td>mcderse01</td>\n      <td>2021</td>\n      <td>2021</td>\n      <td>F</td>\n      <td>78</td>\n      <td>...</td>\n      <td>24.48</td>\n      <td>2021</td>\n      <td>2021-04-30</td>\n      <td>4 days</td>\n      <td>1</td>\n      <td>0</td>\n      <td>0</td>\n      <td>0</td>\n      <td>4</td>\n      <td>4</td>\n    </tr>\n    <tr>\n      <th>61806</th>\n      <td>2021-04-30</td>\n      <td>Alex Caruso</td>\n      <td>Lakers</td>\n      <td>Injured</td>\n      <td>placed on IL with back spasms</td>\n      <td>carusal01</td>\n      <td>2018</td>\n      <td>2021</td>\n      <td>G</td>\n      <td>76</td>\n      <td>...</td>\n      <td>27.17</td>\n      <td>2021</td>\n      <td>2021-05-02</td>\n      <td>2 days</td>\n      <td>0</td>\n      <td>0</td>\n      <td>0</td>\n      <td>3</td>\n      <td>14</td>\n      <td>5</td>\n    </tr>\n    <tr>\n      <th>61824</th>\n      <td>2021-05-01</td>\n      <td>Kyle Lowry</td>\n      <td>Raptors</td>\n      <td>Injured</td>\n      <td>placed on IL</td>\n      <td>lowryky01</td>\n      <td>2007</td>\n      <td>2021</td>\n      <td>G</td>\n      <td>72</td>\n      <td>...</td>\n      <td>35.10</td>\n      <td>2021</td>\n      <td>2021-05-02</td>\n      <td>1 days</td>\n      <td>1</td>\n      <td>0</td>\n      <td>0</td>\n      <td>14</td>\n      <td>41</td>\n      <td>5</td>\n    </tr>\n    <tr>\n      <th>61841</th>\n      <td>2021-05-01</td>\n      <td>Udonis Haslem</td>\n      <td>Heat</td>\n      <td>Injured</td>\n      <td>stomach illness (DTD)</td>\n      <td>hasleud01</td>\n      <td>2004</td>\n      <td>2021</td>\n      <td>F-C</td>\n      <td>80</td>\n      <td>...</td>\n      <td>40.89</td>\n      <td>2021</td>\n      <td>2021-05-13</td>\n      <td>12 days</td>\n      <td>0</td>\n      <td>0</td>\n      <td>0</td>\n      <td>17</td>\n      <td>30</td>\n      <td>1</td>\n    </tr>\n    <tr>\n      <th>61947</th>\n      <td>2021-05-07</td>\n      <td>Furkan Korkmaz</td>\n      <td>76ers</td>\n      <td>Injured</td>\n      <td>placed on IL with sprained right ankle</td>\n      <td>korkmfu01</td>\n      <td>2018</td>\n      <td>2021</td>\n      <td>G</td>\n      <td>79</td>\n      <td>...</td>\n      <td>23.79</td>\n      <td>2021</td>\n      <td>2021-05-13</td>\n      <td>6 days</td>\n      <td>0</td>\n      <td>0</td>\n      <td>0</td>\n      <td>3</td>\n      <td>9</td>\n      <td>3</td>\n    </tr>\n  </tbody>\n</table>\n<p>40 rows × 21 columns</p>\n</div>"
     },
     "metadata": {},
     "execution_count": 72
    }
   ],
   "source": [
    "temp_players = set(df[((notes == 'placed on IL') & (df.New_Inj == 1))]['bbref_id'].unique().tolist())\n",
    "\n",
    "df[((notes == 'placed on IL') & (df.New_Inj == 1))|((df.New_Inj != 1)&df.bbref_id.isin(temp_players))].tail(40)"
   ]
  },
  {
   "cell_type": "code",
   "execution_count": 73,
   "metadata": {},
   "outputs": [
    {
     "output_type": "error",
     "ename": "NameError",
     "evalue": "name 'df1' is not defined",
     "traceback": [
      "\u001b[0;31m---------------------------------------------------------------------------\u001b[0m",
      "\u001b[0;31mNameError\u001b[0m                                 Traceback (most recent call last)",
      "\u001b[0;32m<ipython-input-73-1d02916e441a>\u001b[0m in \u001b[0;36m<module>\u001b[0;34m\u001b[0m\n\u001b[0;32m----> 1\u001b[0;31m \u001b[0mp_df0\u001b[0m\u001b[0;34m,\u001b[0m \u001b[0mp_df1\u001b[0m \u001b[0;34m=\u001b[0m \u001b[0mdf0\u001b[0m\u001b[0;34m.\u001b[0m\u001b[0mbbref_id\u001b[0m\u001b[0;34m.\u001b[0m\u001b[0munique\u001b[0m\u001b[0;34m(\u001b[0m\u001b[0;34m)\u001b[0m\u001b[0;34m,\u001b[0m \u001b[0mdf1\u001b[0m\u001b[0;34m.\u001b[0m\u001b[0mbbref_id\u001b[0m\u001b[0;34m.\u001b[0m\u001b[0munique\u001b[0m\u001b[0;34m(\u001b[0m\u001b[0;34m)\u001b[0m\u001b[0;34m\u001b[0m\u001b[0;34m\u001b[0m\u001b[0m\n\u001b[0m",
      "\u001b[0;31mNameError\u001b[0m: name 'df1' is not defined"
     ]
    }
   ],
   "source": []
  },
  {
   "cell_type": "code",
   "execution_count": null,
   "metadata": {},
   "outputs": [],
   "source": []
  }
 ]
}