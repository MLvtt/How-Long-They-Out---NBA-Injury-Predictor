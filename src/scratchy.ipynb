{
 "metadata": {
  "language_info": {
   "codemirror_mode": {
    "name": "ipython",
    "version": 3
   },
   "file_extension": ".py",
   "mimetype": "text/x-python",
   "name": "python",
   "nbconvert_exporter": "python",
   "pygments_lexer": "ipython3",
   "version": "3.8.2"
  },
  "orig_nbformat": 4,
  "kernelspec": {
   "name": "python3",
   "display_name": "Python 3.8.2 64-bit ('base': conda)"
  },
  "interpreter": {
   "hash": "f6bdf78043db99d935f40f61a24bf6e40a19bb6491673070e840ece9dc443399"
  }
 },
 "nbformat": 4,
 "nbformat_minor": 2,
 "cells": [
  {
   "cell_type": "code",
   "execution_count": 2,
   "metadata": {},
   "outputs": [],
   "source": [
    "import pandas as pd\n",
    "import numpy as np\n",
    "import matplotlib.pyplot as plt\n",
    "plt.style.use('ggplot')\n",
    "import xgboost as xgb"
   ]
  },
  {
   "cell_type": "code",
   "execution_count": 3,
   "metadata": {},
   "outputs": [],
   "source": [
    "df = pd.read_pickle('../data/df_final1.pkl')\n",
    "df1 = pd.read_pickle('../data/df_final2.pkl')"
   ]
  },
  {
   "cell_type": "code",
   "execution_count": 8,
   "metadata": {},
   "outputs": [
    {
     "output_type": "execute_result",
     "data": {
      "text/plain": [
       "Few Days         0.302146\n",
       "Weeks            0.165569\n",
       "Days             0.158700\n",
       "Week             0.150931\n",
       "Out Of NBA       0.120707\n",
       "Season Ending    0.059595\n",
       "Months           0.042352\n",
       "Name: Inj_Duration_Cat, dtype: float64"
      ]
     },
     "metadata": {},
     "execution_count": 8
    }
   ],
   "source": [
    "df['Inj_Duration_Cat'].value_counts()/len(df)"
   ]
  },
  {
   "cell_type": "code",
   "execution_count": 9,
   "metadata": {},
   "outputs": [],
   "source": [
    "df0 = df.copy()"
   ]
  },
  {
   "cell_type": "code",
   "execution_count": 10,
   "metadata": {},
   "outputs": [
    {
     "output_type": "execute_result",
     "data": {
      "text/plain": [
       "1597     Season Ending\n",
       "1598            Months\n",
       "1599            Months\n",
       "1600            Months\n",
       "1601            Months\n",
       "             ...      \n",
       "62218             Week\n",
       "62219            Weeks\n",
       "62221             Week\n",
       "62223             Days\n",
       "62237             Week\n",
       "Name: Inj_Duration_Cat, Length: 21109, dtype: category\n",
       "Categories (7, object): ['Days', 'Few Days', 'Months', 'Out Of NBA', 'Season Ending', 'Week', 'Weeks']"
      ]
     },
     "metadata": {},
     "execution_count": 10
    }
   ],
   "source": [
    "df0['Inj_Duration_Cat']"
   ]
  },
  {
   "cell_type": "code",
   "execution_count": null,
   "metadata": {},
   "outputs": [],
   "source": []
  }
 ]
}