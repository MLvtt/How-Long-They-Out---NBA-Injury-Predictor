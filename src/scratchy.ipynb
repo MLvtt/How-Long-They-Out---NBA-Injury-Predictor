{
 "metadata": {
  "language_info": {
   "codemirror_mode": {
    "name": "ipython",
    "version": 3
   },
   "file_extension": ".py",
   "mimetype": "text/x-python",
   "name": "python",
   "nbconvert_exporter": "python",
   "pygments_lexer": "ipython3",
   "version": "3.8.2"
  },
  "orig_nbformat": 4,
  "kernelspec": {
   "name": "python3",
   "display_name": "Python 3.8.2 64-bit ('base': conda)"
  },
  "interpreter": {
   "hash": "f6bdf78043db99d935f40f61a24bf6e40a19bb6491673070e840ece9dc443399"
  }
 },
 "nbformat": 4,
 "nbformat_minor": 2,
 "cells": [
  {
   "cell_type": "code",
   "execution_count": 1,
   "metadata": {},
   "outputs": [],
   "source": [
    "import re, requests\n",
    "from bs4 import BeautifulSoup\n",
    "import pandas as pd\n",
    "import numpy as np\n",
    "from gamelogs_to_mongo import get_return_dates\n",
    "from pymongo import MongoClient\n",
    "from data_cleaning import *\n",
    "import matplotlib.pyplot as plt"
   ]
  },
  {
   "cell_type": "code",
   "execution_count": 2,
   "metadata": {},
   "outputs": [
    {
     "output_type": "execute_result",
     "data": {
      "text/plain": [
       "            Date          player             Team   Status  \\\n",
       "1597  1994-07-06   Patrick Ewing           Knicks  Injured   \n",
       "1598  1994-08-16     Brent Price  Bullets/Wizards  Injured   \n",
       "1599  1994-08-24   Doug Christie           Lakers  Injured   \n",
       "1600  1994-08-24     John Battle        Cavaliers  Injured   \n",
       "1601  1994-09-15  LaPhonso Ellis          Nuggets  Injured   \n",
       "...          ...             ...              ...      ...   \n",
       "62218 2021-06-06    James Harden             Nets  Injured   \n",
       "62219 2021-06-07    Jordan Nwora            Bucks  Injured   \n",
       "62221 2021-06-08     Mike Conley             Jazz  Injured   \n",
       "62223 2021-06-09     Sam Merrill            Bucks  Injured   \n",
       "62237 2021-06-16      Chris Paul             Suns  Injured   \n",
       "\n",
       "                                                   Notes   bbref_id  from  \\\n",
       "1597        arthroscopic surgery on knee (out 6-8 weeks)  ewingpa01  1986   \n",
       "1598   surgery on knee to repair torn ACL (out for se...  pricebr01  1993   \n",
       "1599   surgery on left ankle to remove calcium deposi...  chrisdo01  1993   \n",
       "1600   surgery on left knee to remove loose cartilage...  battljo01  1986   \n",
       "1601      stress fracture in right kneecap (out 8 weeks)  ellisla01  1993   \n",
       "...                                                  ...        ...   ...   \n",
       "62218     placed on IL with tightness in right hamstring  hardeja01  2010   \n",
       "62219                placed on IL with left thigh injury  nworajo01  2021   \n",
       "62221         placed on IL with strained right hamstring  conlemi01  2008   \n",
       "62223             placed on IL with sprained right ankle  merrisa01  2021   \n",
       "62237               placed on IL with COVID-19 protocols   paulch01  2006   \n",
       "\n",
       "         to  height  weight  ...  ppg_career_b4  rpg_career_b4 apg_career_b4  \\\n",
       "1597   2002      84     240  ...          23.73          10.39          2.15   \n",
       "1598   2002      73     165  ...           4.98           1.45          2.76   \n",
       "1599   2007      78     200  ...           8.85           3.12           2.1   \n",
       "1600   1995      74     175  ...           8.74           1.39          2.04   \n",
       "1601   2003      80     240  ...          15.01            8.8          1.99   \n",
       "...     ...     ...     ...  ...            ...            ...           ...   \n",
       "62218  2021      77     220  ...          24.92           5.46          6.45   \n",
       "62219  2021      80     225  ...            5.5           1.94          0.22   \n",
       "62221  2021      73     175  ...          15.07           3.04          5.74   \n",
       "62223  2021      76     205  ...           2.71           0.91          0.65   \n",
       "62237  2021      72     175  ...          18.54           4.58          9.32   \n",
       "\n",
       "      pmg_career_b4  League_Years  Num_Inj_Career  Num_Inj_Season  POS_G  \\\n",
       "1597            NaN             8               4               1      0   \n",
       "1598            NaN             2               1               1      1   \n",
       "1599            NaN             2               1               1      1   \n",
       "1600            NaN             9               2               1      1   \n",
       "1601            NaN             2               1               1      0   \n",
       "...             ...           ...             ...             ...    ...   \n",
       "62218          3.82            11              27               7      1   \n",
       "62219          0.03             0               2               2      0   \n",
       "62221          1.95            13              46               9      1   \n",
       "62223         -1.15             0               2               2      1   \n",
       "62237          4.61            15              43               2      1   \n",
       "\n",
       "      POS_F POS_C  \n",
       "1597      1     1  \n",
       "1598      0     0  \n",
       "1599      1     0  \n",
       "1600      0     0  \n",
       "1601      1     0  \n",
       "...     ...   ...  \n",
       "62218     0     0  \n",
       "62219     1     0  \n",
       "62221     0     0  \n",
       "62223     0     0  \n",
       "62237     0     0  \n",
       "\n",
       "[27212 rows x 70 columns]"
      ],
      "text/html": "<div>\n<style scoped>\n    .dataframe tbody tr th:only-of-type {\n        vertical-align: middle;\n    }\n\n    .dataframe tbody tr th {\n        vertical-align: top;\n    }\n\n    .dataframe thead th {\n        text-align: right;\n    }\n</style>\n<table border=\"1\" class=\"dataframe\">\n  <thead>\n    <tr style=\"text-align: right;\">\n      <th></th>\n      <th>Date</th>\n      <th>player</th>\n      <th>Team</th>\n      <th>Status</th>\n      <th>Notes</th>\n      <th>bbref_id</th>\n      <th>from</th>\n      <th>to</th>\n      <th>height</th>\n      <th>weight</th>\n      <th>...</th>\n      <th>ppg_career_b4</th>\n      <th>rpg_career_b4</th>\n      <th>apg_career_b4</th>\n      <th>pmg_career_b4</th>\n      <th>League_Years</th>\n      <th>Num_Inj_Career</th>\n      <th>Num_Inj_Season</th>\n      <th>POS_G</th>\n      <th>POS_F</th>\n      <th>POS_C</th>\n    </tr>\n  </thead>\n  <tbody>\n    <tr>\n      <th>1597</th>\n      <td>1994-07-06</td>\n      <td>Patrick Ewing</td>\n      <td>Knicks</td>\n      <td>Injured</td>\n      <td>arthroscopic surgery on knee (out 6-8 weeks)</td>\n      <td>ewingpa01</td>\n      <td>1986</td>\n      <td>2002</td>\n      <td>84</td>\n      <td>240</td>\n      <td>...</td>\n      <td>23.73</td>\n      <td>10.39</td>\n      <td>2.15</td>\n      <td>NaN</td>\n      <td>8</td>\n      <td>4</td>\n      <td>1</td>\n      <td>0</td>\n      <td>1</td>\n      <td>1</td>\n    </tr>\n    <tr>\n      <th>1598</th>\n      <td>1994-08-16</td>\n      <td>Brent Price</td>\n      <td>Bullets/Wizards</td>\n      <td>Injured</td>\n      <td>surgery on knee to repair torn ACL (out for se...</td>\n      <td>pricebr01</td>\n      <td>1993</td>\n      <td>2002</td>\n      <td>73</td>\n      <td>165</td>\n      <td>...</td>\n      <td>4.98</td>\n      <td>1.45</td>\n      <td>2.76</td>\n      <td>NaN</td>\n      <td>2</td>\n      <td>1</td>\n      <td>1</td>\n      <td>1</td>\n      <td>0</td>\n      <td>0</td>\n    </tr>\n    <tr>\n      <th>1599</th>\n      <td>1994-08-24</td>\n      <td>Doug Christie</td>\n      <td>Lakers</td>\n      <td>Injured</td>\n      <td>surgery on left ankle to remove calcium deposi...</td>\n      <td>chrisdo01</td>\n      <td>1993</td>\n      <td>2007</td>\n      <td>78</td>\n      <td>200</td>\n      <td>...</td>\n      <td>8.85</td>\n      <td>3.12</td>\n      <td>2.1</td>\n      <td>NaN</td>\n      <td>2</td>\n      <td>1</td>\n      <td>1</td>\n      <td>1</td>\n      <td>1</td>\n      <td>0</td>\n    </tr>\n    <tr>\n      <th>1600</th>\n      <td>1994-08-24</td>\n      <td>John Battle</td>\n      <td>Cavaliers</td>\n      <td>Injured</td>\n      <td>surgery on left knee to remove loose cartilage...</td>\n      <td>battljo01</td>\n      <td>1986</td>\n      <td>1995</td>\n      <td>74</td>\n      <td>175</td>\n      <td>...</td>\n      <td>8.74</td>\n      <td>1.39</td>\n      <td>2.04</td>\n      <td>NaN</td>\n      <td>9</td>\n      <td>2</td>\n      <td>1</td>\n      <td>1</td>\n      <td>0</td>\n      <td>0</td>\n    </tr>\n    <tr>\n      <th>1601</th>\n      <td>1994-09-15</td>\n      <td>LaPhonso Ellis</td>\n      <td>Nuggets</td>\n      <td>Injured</td>\n      <td>stress fracture in right kneecap (out 8 weeks)</td>\n      <td>ellisla01</td>\n      <td>1993</td>\n      <td>2003</td>\n      <td>80</td>\n      <td>240</td>\n      <td>...</td>\n      <td>15.01</td>\n      <td>8.8</td>\n      <td>1.99</td>\n      <td>NaN</td>\n      <td>2</td>\n      <td>1</td>\n      <td>1</td>\n      <td>0</td>\n      <td>1</td>\n      <td>0</td>\n    </tr>\n    <tr>\n      <th>...</th>\n      <td>...</td>\n      <td>...</td>\n      <td>...</td>\n      <td>...</td>\n      <td>...</td>\n      <td>...</td>\n      <td>...</td>\n      <td>...</td>\n      <td>...</td>\n      <td>...</td>\n      <td>...</td>\n      <td>...</td>\n      <td>...</td>\n      <td>...</td>\n      <td>...</td>\n      <td>...</td>\n      <td>...</td>\n      <td>...</td>\n      <td>...</td>\n      <td>...</td>\n      <td>...</td>\n    </tr>\n    <tr>\n      <th>62218</th>\n      <td>2021-06-06</td>\n      <td>James Harden</td>\n      <td>Nets</td>\n      <td>Injured</td>\n      <td>placed on IL with tightness in right hamstring</td>\n      <td>hardeja01</td>\n      <td>2010</td>\n      <td>2021</td>\n      <td>77</td>\n      <td>220</td>\n      <td>...</td>\n      <td>24.92</td>\n      <td>5.46</td>\n      <td>6.45</td>\n      <td>3.82</td>\n      <td>11</td>\n      <td>27</td>\n      <td>7</td>\n      <td>1</td>\n      <td>0</td>\n      <td>0</td>\n    </tr>\n    <tr>\n      <th>62219</th>\n      <td>2021-06-07</td>\n      <td>Jordan Nwora</td>\n      <td>Bucks</td>\n      <td>Injured</td>\n      <td>placed on IL with left thigh injury</td>\n      <td>nworajo01</td>\n      <td>2021</td>\n      <td>2021</td>\n      <td>80</td>\n      <td>225</td>\n      <td>...</td>\n      <td>5.5</td>\n      <td>1.94</td>\n      <td>0.22</td>\n      <td>0.03</td>\n      <td>0</td>\n      <td>2</td>\n      <td>2</td>\n      <td>0</td>\n      <td>1</td>\n      <td>0</td>\n    </tr>\n    <tr>\n      <th>62221</th>\n      <td>2021-06-08</td>\n      <td>Mike Conley</td>\n      <td>Jazz</td>\n      <td>Injured</td>\n      <td>placed on IL with strained right hamstring</td>\n      <td>conlemi01</td>\n      <td>2008</td>\n      <td>2021</td>\n      <td>73</td>\n      <td>175</td>\n      <td>...</td>\n      <td>15.07</td>\n      <td>3.04</td>\n      <td>5.74</td>\n      <td>1.95</td>\n      <td>13</td>\n      <td>46</td>\n      <td>9</td>\n      <td>1</td>\n      <td>0</td>\n      <td>0</td>\n    </tr>\n    <tr>\n      <th>62223</th>\n      <td>2021-06-09</td>\n      <td>Sam Merrill</td>\n      <td>Bucks</td>\n      <td>Injured</td>\n      <td>placed on IL with sprained right ankle</td>\n      <td>merrisa01</td>\n      <td>2021</td>\n      <td>2021</td>\n      <td>76</td>\n      <td>205</td>\n      <td>...</td>\n      <td>2.71</td>\n      <td>0.91</td>\n      <td>0.65</td>\n      <td>-1.15</td>\n      <td>0</td>\n      <td>2</td>\n      <td>2</td>\n      <td>1</td>\n      <td>0</td>\n      <td>0</td>\n    </tr>\n    <tr>\n      <th>62237</th>\n      <td>2021-06-16</td>\n      <td>Chris Paul</td>\n      <td>Suns</td>\n      <td>Injured</td>\n      <td>placed on IL with COVID-19 protocols</td>\n      <td>paulch01</td>\n      <td>2006</td>\n      <td>2021</td>\n      <td>72</td>\n      <td>175</td>\n      <td>...</td>\n      <td>18.54</td>\n      <td>4.58</td>\n      <td>9.32</td>\n      <td>4.61</td>\n      <td>15</td>\n      <td>43</td>\n      <td>2</td>\n      <td>1</td>\n      <td>0</td>\n      <td>0</td>\n    </tr>\n  </tbody>\n</table>\n<p>27212 rows × 70 columns</p>\n</div>"
     },
     "metadata": {},
     "execution_count": 2
    }
   ],
   "source": [
    "df = pd.read_pickle('../data/df_inj.pkl')\n",
    "df = df[(df['Date'] >= '1994-07-01')&df['New_Inj']]\n",
    "df"
   ]
  },
  {
   "cell_type": "code",
   "execution_count": 7,
   "metadata": {},
   "outputs": [],
   "source": [
    "nsc = df.Notes.str.contains"
   ]
  },
  {
   "cell_type": "code",
   "execution_count": 21,
   "metadata": {},
   "outputs": [
    {
     "output_type": "execute_result",
     "data": {
      "text/plain": [
       "array([' (S)', ' (Stats)', ' (suffered in car accident)',\n",
       "       ' (stomach flu)', ' (per Stats)',\n",
       "       ' (and dropped from playoff roster)',\n",
       "       ' (dropped from playoff roster)', ' (lower back)',\n",
       "       ' (sore left knee per P)', ' (right foot per Stats)',\n",
       "       ' (back spasms per Stats)', ' (back per Stats)', ' (P)',\n",
       "       ' (lower back spasms per Stats)', ' (left shoulder per Stats)',\n",
       "       ' (plantar fasciatis)', ' (hamstring tendinitis per Stats)',\n",
       "       ' (pinky finger per Stats)', ' (sore left shoulder per P)',\n",
       "       ' (bruised left bicep per P)', ' (groin)',\n",
       "       ' (per Stats & Bulls media guide)', ' (back surgery per Stats)',\n",
       "       ' (shin splints)', ' (knee injury per ESPN)',\n",
       "       ' (per Bulls media guide)',\n",
       "       ' (player had not officially submitted retirement papers)',\n",
       "       ' (right knee tendinitis per E)', ' (soreness)', ' (DNP)',\n",
       "       ' (left?)', ' (sprained right ankle per P)',\n",
       "       ' (torn per Bulls media guide)',\n",
       "       ' (sprained right ankle per Bulls media guide)',\n",
       "       ' (right per some sources)',\n",
       "       ' (left knee tendinitis per Bulls media guide)',\n",
       "       ' (right ankle per SN)',\n",
       "       ' (yet to pass physical since being acquired in trade)',\n",
       "       ' (patellofemoral arthritis in left knee)', ' (death of brother)',\n",
       "       ' (funeral)', ' (due to suspension)', ' (suspended)',\n",
       "       ' (ankle injury per CBC)', ' (ankle per CBC)', ' (knee per CBC)',\n",
       "       ' (left knee per CBC)', ' (sprained right ankle per CBC)',\n",
       "       ' (flu per CBC)', ' (DTD)', ' (with flu?)', ' (CBC)',\n",
       "       ' (later diagnosed as stress fracture in left ankle)', ' (rib)',\n",
       "       ' (Fox)', ' (F)', ' (surgery)', ' (tibia)', ' (not CBC)',\n",
       "       ' (eyelid)', ' (~CBC)', ' (Y)', ' (CBC Y)', ' (birth of child)'],\n",
       "      dtype=object)"
      ]
     },
     "metadata": {},
     "execution_count": 21
    }
   ],
   "source": [
    "df[nsc('(^pla.*?n I\\w)')\n",
    "    &nsc('( \\(.*?\\))')\n",
    "    &~nsc('(date', regex=False)\n",
    "    &~nsc('(out', regex=False)\n",
    "    &~nsc('dropped')\n",
    "    &~nsc('(S)')\n",
    "    ].Notes.str.extract('( \\(.*?\\))')[0].unique()"
   ]
  },
  {
   "cell_type": "code",
   "execution_count": 56,
   "metadata": {},
   "outputs": [
    {
     "output_type": "execute_result",
     "data": {
      "text/plain": [
       "array([nan, ' (DTD)', ' (S)', ' (DNP)', ' (left game)', ' (day-to-day)',\n",
       "       ' (Stats)', ' (suffered in car accident)', ' (left knee)',\n",
       "       ' (stomach flu)', ' (and dropped from playoff roster)',\n",
       "       ' (dropped from playoff roster)', ' (roughening under kneecap)',\n",
       "       ' (lower back)', ' (sore left knee)', ' (car accident)',\n",
       "       ' (eye socket)', ' (right foot)', ' (bruised)', ' (back spasms)',\n",
       "       ' (back)', ' (P)', ' (lower back spasms)', ' (left shoulder)',\n",
       "       ' (plantar fasciatis)', ' (torn)', ' (stepped on nail)', ' (knee)',\n",
       "       ' (likely out for season)', ' (sprained)', ' (elbow)',\n",
       "       ' (right ankle)', ' (left thumb)', ' (right thumb)',\n",
       "       ' (sore Achilles)', ' (bruised ribs)', ' (hamstring tendinitis)',\n",
       "       ' (strained left quadricep)', ' (not with team)',\n",
       "       ' (left and right ankles)', ' (pinky finger)',\n",
       "       ' (missed practice)', ' (missed pre-season games)',\n",
       "       ' (sore left shoulder)', ' (bruised left bicep)', ' (groin)',\n",
       "       ' (will undergo arthroscopic surgery)', ' (will require surgery)',\n",
       "       ' (will require surgery, out for season)',\n",
       "       ' (entrapment of a nerve)', ' (back surgery)', ' (shin splints)',\n",
       "       ' (knee injury)',\n",
       "       ' (player had not officially submitted retirement papers)',\n",
       "       ' (right knee tendinitis)', ' (soreness)', ' (left?)',\n",
       "       ' (sprained right ankle)', ' (excused from training camp)',\n",
       "       ' (right)', ' (left knee tendinitis)', ' (right?)',\n",
       "       ' (motorcycle accident)',\n",
       "       ' (yet to pass physical since being acquired in trade)',\n",
       "       ' (patellofemoral arthritis in left knee)', ' (ligament)',\n",
       "       ' (missed pre-season game)', ' (left pre-season game)',\n",
       "       ' (death of brother)', ' (funeral)', ' (due to suspension)',\n",
       "       ' (personal reasons)', ' (suspended)', ' (ankle injury)',\n",
       "       ' (ankle)', ' (sufferered in car accident)', ' (including ACL)',\n",
       "       ' (neck)', ' (eye injury)', ' (flu)', ' (sprained left ankle)',\n",
       "       ' (finger injury)', ' (right shoulder injury)', ' (with flu?)',\n",
       "       ' (right shoulder)', ' (CBC)', ' (surgery, out for season)',\n",
       "       ' (later diagnosed as stress fracture in left ankle)',\n",
       "       ' (irregular heartbeat)', ' (rib)', ' (Fox)', ' (CBC Fox)', ' (F)',\n",
       "       ' (surgery)', ' (tibia)', ' (not CBC)',\n",
       "       ' (effective at the end of the season)', ' (eyelid)',\n",
       "       ' (did not miss any games)', ' (~CBC)', ' (from gunshot wound)',\n",
       "       ' (Y)', ' (CBC Y)', ' (P Y)', ' (blood disorder)',\n",
       "       ' (birth of child)'], dtype=object)"
      ]
     },
     "metadata": {},
     "execution_count": 56
    }
   ],
   "source": [
    "## Regex commands\n",
    "per_source = r'(\\(| )(per .*?)\\)' \n",
    "date_approx = r'( \\(date .*?\\))'\n",
    "out_for_x = r'( \\(ou)(t|r)( .*?\\))'\n",
    "# df[nsc(per_source)].Notes.apply(lambda x: re.sub(per_source, ')', x))\n",
    "# df[nsc(date_approx)].Notes.apply(lambda x: re.sub(date_approx, '', x))\n",
    "# df[nsc(out_for_x)].Notes.apply(lambda x: re.sub(out_for_x, '', x))\n",
    "df.Notes.apply(lambda x: re.sub(per_source, ')', x)).apply(lambda x: re.sub(date_approx, '', x)).apply(lambda x: re.sub(out_for_x, '', x)).str.extract('( \\(.*?\\))')[0].unique()"
   ]
  },
  {
   "cell_type": "code",
   "execution_count": null,
   "metadata": {},
   "outputs": [],
   "source": []
  }
 ]
}