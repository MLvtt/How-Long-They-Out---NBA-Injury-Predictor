{
 "metadata": {
  "language_info": {
   "codemirror_mode": {
    "name": "ipython",
    "version": 3
   },
   "file_extension": ".py",
   "mimetype": "text/x-python",
   "name": "python",
   "nbconvert_exporter": "python",
   "pygments_lexer": "ipython3",
   "version": "3.8.2"
  },
  "orig_nbformat": 4,
  "kernelspec": {
   "name": "python3",
   "display_name": "Python 3.8.2 64-bit ('base': conda)"
  },
  "interpreter": {
   "hash": "f6bdf78043db99d935f40f61a24bf6e40a19bb6491673070e840ece9dc443399"
  }
 },
 "nbformat": 4,
 "nbformat_minor": 2,
 "cells": [
  {
   "cell_type": "code",
   "execution_count": 39,
   "metadata": {},
   "outputs": [],
   "source": [
    "import re, requests\n",
    "from bs4 import BeautifulSoup\n",
    "import pandas as pd\n",
    "import numpy as np\n",
    "from gamelogs_to_mongo import format_injury_df\n",
    "from pymongo import MongoClient\n",
    "from data_cleaning import *\n",
    "import matplotlib.pyplot as plt\n",
    "\n",
    "import string\n",
    "from collections import Counter\n",
    "from nltk.tokenize import sent_tokenize, word_tokenize\n",
    "from nltk.stem.porter import PorterStemmer\n",
    "from nltk.stem.snowball import SnowballStemmer\n",
    "from nltk.stem.wordnet import WordNetLemmatizer\n",
    "from nltk.util import ngrams"
   ]
  },
  {
   "cell_type": "code",
   "execution_count": 13,
   "metadata": {},
   "outputs": [],
   "source": [
    "stopwords_ = \"a,able,about,across,after,all,almost,also,am,among,an,and,any,\\\n",
    "are,as,at,be,because,been,but,by,can,could,dear,did,do,does,either,\\\n",
    "else,ever,every,for,from,get,got,had,has,have,he,her,hers,him,his,\\\n",
    "how,however,i,if,in,into,is,it,its,just,least,let,like,likely,may,\\\n",
    "me,might,most,must,my,neither,no,of,off,often,on,only,or,other,our,\\\n",
    "own,rather,said,say,says,she,should,since,so,some,than,that,the,their,\\\n",
    "them,then,there,these,they,this,tis,to,too,twas,us,wants,was,we,were,\\\n",
    "what,when,where,which,while,who,whom,why,will,with,would,yet,you,your\".split(',')"
   ]
  },
  {
   "cell_type": "code",
   "execution_count": 2,
   "metadata": {},
   "outputs": [],
   "source": [
    "df0 = pd.read_pickle('./df.pkl')\n",
    "players = df0['bbref_id'].unique()\n",
    "df_raw = format_injury_df(df0)"
   ]
  },
  {
   "cell_type": "code",
   "execution_count": 133,
   "metadata": {},
   "outputs": [
    {
     "output_type": "execute_result",
     "data": {
      "text/plain": [
       "            Date          player     Team   Status  \\\n",
       "356   1980-10-09    Tree Rollins    Hawks  Injured   \n",
       "368   1980-11-07    Tree Rollins    Hawks  Injured   \n",
       "370   1980-11-17     Rick Mahorn  Bullets  Injured   \n",
       "377   1980-12-05       John Long  Pistons  Injured   \n",
       "387   1980-12-21       John Long  Pistons  Injured   \n",
       "...          ...             ...      ...      ...   \n",
       "62219 2021-06-07    Jordan Nwora    Bucks  Injured   \n",
       "62221 2021-06-08     Mike Conley     Jazz  Injured   \n",
       "62223 2021-06-09     Sam Merrill    Bucks  Injured   \n",
       "62237 2021-06-16      Chris Paul     Suns  Injured   \n",
       "62240 2021-06-23  Justin Jackson    Bucks  Injured   \n",
       "\n",
       "                                            Notes   bbref_id  from    to  pos  \\\n",
       "356                                  placed on IL  rollitr01  1978  1995    C   \n",
       "368                                  placed on IL  rollitr01  1978  1995    C   \n",
       "370                          sprained ankle (DTD)  mahorri01  1981  1999  C-F   \n",
       "377                                  placed on IL   longjo01  1979  1997  G-F   \n",
       "387                 placed on IL with knee injury   longjo01  1979  1997  G-F   \n",
       "...                                           ...        ...   ...   ...  ...   \n",
       "62219         placed on IL with left thigh injury  nworajo01  2021  2021    F   \n",
       "62221  placed on IL with strained right hamstring  conlemi01  2008  2021    G   \n",
       "62223      placed on IL with sprained right ankle  merrisa01  2021  2021    G   \n",
       "62237        placed on IL with COVID-19 protocols   paulch01  2006  2021    G   \n",
       "62240                  sprained right ankle (DTD)  jacksju01  2018  2021  G-F   \n",
       "\n",
       "       height  ...    age  Season  Return_Date Inj_Duration New_Inj  \\\n",
       "356        85  ...  25.32    1981   1980-10-24      15 days       1   \n",
       "368        85  ...  25.40    1981   1980-11-18      11 days       1   \n",
       "370        82  ...  22.16    1981   1980-11-21       4 days       1   \n",
       "377        77  ...  24.27    1981   1980-12-17      12 days       1   \n",
       "387        77  ...  24.32    1981   1981-01-02      12 days       1   \n",
       "...       ...  ...    ...     ...          ...          ...     ...   \n",
       "62219      80  ...  22.74    2021   2021-06-25      18 days       1   \n",
       "62221      73  ...  33.66    2021   2021-06-18      10 days       1   \n",
       "62223      76  ...  25.07    2021   2021-06-13       4 days       1   \n",
       "62237      72  ...  36.11    2021   2021-06-24       8 days       1   \n",
       "62240      80  ...  26.24    2021   2021-06-25       2 days       1   \n",
       "\n",
       "       Out_of_NBA  Career  League_Years  Num_Inj_Career  Num_Inj_Season  \n",
       "356             0       0             3               1               1  \n",
       "368             0       0             3               2               2  \n",
       "370             0       0             0               1               1  \n",
       "377             0       0             2               1               1  \n",
       "387             0       0             2               2               2  \n",
       "...           ...     ...           ...             ...             ...  \n",
       "62219           0       0             0               2               2  \n",
       "62221           0       0            13              46               9  \n",
       "62223           0       0             0               2               2  \n",
       "62237           0       0            15              43               2  \n",
       "62240           0       0             3               2               1  \n",
       "\n",
       "[43099 rows x 21 columns]"
      ],
      "text/html": "<div>\n<style scoped>\n    .dataframe tbody tr th:only-of-type {\n        vertical-align: middle;\n    }\n\n    .dataframe tbody tr th {\n        vertical-align: top;\n    }\n\n    .dataframe thead th {\n        text-align: right;\n    }\n</style>\n<table border=\"1\" class=\"dataframe\">\n  <thead>\n    <tr style=\"text-align: right;\">\n      <th></th>\n      <th>Date</th>\n      <th>player</th>\n      <th>Team</th>\n      <th>Status</th>\n      <th>Notes</th>\n      <th>bbref_id</th>\n      <th>from</th>\n      <th>to</th>\n      <th>pos</th>\n      <th>height</th>\n      <th>...</th>\n      <th>age</th>\n      <th>Season</th>\n      <th>Return_Date</th>\n      <th>Inj_Duration</th>\n      <th>New_Inj</th>\n      <th>Out_of_NBA</th>\n      <th>Career</th>\n      <th>League_Years</th>\n      <th>Num_Inj_Career</th>\n      <th>Num_Inj_Season</th>\n    </tr>\n  </thead>\n  <tbody>\n    <tr>\n      <th>356</th>\n      <td>1980-10-09</td>\n      <td>Tree Rollins</td>\n      <td>Hawks</td>\n      <td>Injured</td>\n      <td>placed on IL</td>\n      <td>rollitr01</td>\n      <td>1978</td>\n      <td>1995</td>\n      <td>C</td>\n      <td>85</td>\n      <td>...</td>\n      <td>25.32</td>\n      <td>1981</td>\n      <td>1980-10-24</td>\n      <td>15 days</td>\n      <td>1</td>\n      <td>0</td>\n      <td>0</td>\n      <td>3</td>\n      <td>1</td>\n      <td>1</td>\n    </tr>\n    <tr>\n      <th>368</th>\n      <td>1980-11-07</td>\n      <td>Tree Rollins</td>\n      <td>Hawks</td>\n      <td>Injured</td>\n      <td>placed on IL</td>\n      <td>rollitr01</td>\n      <td>1978</td>\n      <td>1995</td>\n      <td>C</td>\n      <td>85</td>\n      <td>...</td>\n      <td>25.40</td>\n      <td>1981</td>\n      <td>1980-11-18</td>\n      <td>11 days</td>\n      <td>1</td>\n      <td>0</td>\n      <td>0</td>\n      <td>3</td>\n      <td>2</td>\n      <td>2</td>\n    </tr>\n    <tr>\n      <th>370</th>\n      <td>1980-11-17</td>\n      <td>Rick Mahorn</td>\n      <td>Bullets</td>\n      <td>Injured</td>\n      <td>sprained ankle (DTD)</td>\n      <td>mahorri01</td>\n      <td>1981</td>\n      <td>1999</td>\n      <td>C-F</td>\n      <td>82</td>\n      <td>...</td>\n      <td>22.16</td>\n      <td>1981</td>\n      <td>1980-11-21</td>\n      <td>4 days</td>\n      <td>1</td>\n      <td>0</td>\n      <td>0</td>\n      <td>0</td>\n      <td>1</td>\n      <td>1</td>\n    </tr>\n    <tr>\n      <th>377</th>\n      <td>1980-12-05</td>\n      <td>John Long</td>\n      <td>Pistons</td>\n      <td>Injured</td>\n      <td>placed on IL</td>\n      <td>longjo01</td>\n      <td>1979</td>\n      <td>1997</td>\n      <td>G-F</td>\n      <td>77</td>\n      <td>...</td>\n      <td>24.27</td>\n      <td>1981</td>\n      <td>1980-12-17</td>\n      <td>12 days</td>\n      <td>1</td>\n      <td>0</td>\n      <td>0</td>\n      <td>2</td>\n      <td>1</td>\n      <td>1</td>\n    </tr>\n    <tr>\n      <th>387</th>\n      <td>1980-12-21</td>\n      <td>John Long</td>\n      <td>Pistons</td>\n      <td>Injured</td>\n      <td>placed on IL with knee injury</td>\n      <td>longjo01</td>\n      <td>1979</td>\n      <td>1997</td>\n      <td>G-F</td>\n      <td>77</td>\n      <td>...</td>\n      <td>24.32</td>\n      <td>1981</td>\n      <td>1981-01-02</td>\n      <td>12 days</td>\n      <td>1</td>\n      <td>0</td>\n      <td>0</td>\n      <td>2</td>\n      <td>2</td>\n      <td>2</td>\n    </tr>\n    <tr>\n      <th>...</th>\n      <td>...</td>\n      <td>...</td>\n      <td>...</td>\n      <td>...</td>\n      <td>...</td>\n      <td>...</td>\n      <td>...</td>\n      <td>...</td>\n      <td>...</td>\n      <td>...</td>\n      <td>...</td>\n      <td>...</td>\n      <td>...</td>\n      <td>...</td>\n      <td>...</td>\n      <td>...</td>\n      <td>...</td>\n      <td>...</td>\n      <td>...</td>\n      <td>...</td>\n      <td>...</td>\n    </tr>\n    <tr>\n      <th>62219</th>\n      <td>2021-06-07</td>\n      <td>Jordan Nwora</td>\n      <td>Bucks</td>\n      <td>Injured</td>\n      <td>placed on IL with left thigh injury</td>\n      <td>nworajo01</td>\n      <td>2021</td>\n      <td>2021</td>\n      <td>F</td>\n      <td>80</td>\n      <td>...</td>\n      <td>22.74</td>\n      <td>2021</td>\n      <td>2021-06-25</td>\n      <td>18 days</td>\n      <td>1</td>\n      <td>0</td>\n      <td>0</td>\n      <td>0</td>\n      <td>2</td>\n      <td>2</td>\n    </tr>\n    <tr>\n      <th>62221</th>\n      <td>2021-06-08</td>\n      <td>Mike Conley</td>\n      <td>Jazz</td>\n      <td>Injured</td>\n      <td>placed on IL with strained right hamstring</td>\n      <td>conlemi01</td>\n      <td>2008</td>\n      <td>2021</td>\n      <td>G</td>\n      <td>73</td>\n      <td>...</td>\n      <td>33.66</td>\n      <td>2021</td>\n      <td>2021-06-18</td>\n      <td>10 days</td>\n      <td>1</td>\n      <td>0</td>\n      <td>0</td>\n      <td>13</td>\n      <td>46</td>\n      <td>9</td>\n    </tr>\n    <tr>\n      <th>62223</th>\n      <td>2021-06-09</td>\n      <td>Sam Merrill</td>\n      <td>Bucks</td>\n      <td>Injured</td>\n      <td>placed on IL with sprained right ankle</td>\n      <td>merrisa01</td>\n      <td>2021</td>\n      <td>2021</td>\n      <td>G</td>\n      <td>76</td>\n      <td>...</td>\n      <td>25.07</td>\n      <td>2021</td>\n      <td>2021-06-13</td>\n      <td>4 days</td>\n      <td>1</td>\n      <td>0</td>\n      <td>0</td>\n      <td>0</td>\n      <td>2</td>\n      <td>2</td>\n    </tr>\n    <tr>\n      <th>62237</th>\n      <td>2021-06-16</td>\n      <td>Chris Paul</td>\n      <td>Suns</td>\n      <td>Injured</td>\n      <td>placed on IL with COVID-19 protocols</td>\n      <td>paulch01</td>\n      <td>2006</td>\n      <td>2021</td>\n      <td>G</td>\n      <td>72</td>\n      <td>...</td>\n      <td>36.11</td>\n      <td>2021</td>\n      <td>2021-06-24</td>\n      <td>8 days</td>\n      <td>1</td>\n      <td>0</td>\n      <td>0</td>\n      <td>15</td>\n      <td>43</td>\n      <td>2</td>\n    </tr>\n    <tr>\n      <th>62240</th>\n      <td>2021-06-23</td>\n      <td>Justin Jackson</td>\n      <td>Bucks</td>\n      <td>Injured</td>\n      <td>sprained right ankle (DTD)</td>\n      <td>jacksju01</td>\n      <td>2018</td>\n      <td>2021</td>\n      <td>G-F</td>\n      <td>80</td>\n      <td>...</td>\n      <td>26.24</td>\n      <td>2021</td>\n      <td>2021-06-25</td>\n      <td>2 days</td>\n      <td>1</td>\n      <td>0</td>\n      <td>0</td>\n      <td>3</td>\n      <td>2</td>\n      <td>1</td>\n    </tr>\n  </tbody>\n</table>\n<p>43099 rows × 21 columns</p>\n</div>"
     },
     "metadata": {},
     "execution_count": 133
    }
   ],
   "source": [
    "df = df_raw.copy()\n",
    "df"
   ]
  },
  {
   "cell_type": "code",
   "execution_count": 131,
   "metadata": {},
   "outputs": [
    {
     "output_type": "execute_result",
     "data": {
      "text/plain": [
       "            Date          player     Team   Status  \\\n",
       "356   1980-10-09    Tree Rollins    Hawks  Injured   \n",
       "368   1980-11-07    Tree Rollins    Hawks  Injured   \n",
       "370   1980-11-17     Rick Mahorn  Bullets  Injured   \n",
       "377   1980-12-05       John Long  Pistons  Injured   \n",
       "387   1980-12-21       John Long  Pistons  Injured   \n",
       "...          ...             ...      ...      ...   \n",
       "62219 2021-06-07    Jordan Nwora    Bucks  Injured   \n",
       "62221 2021-06-08     Mike Conley     Jazz  Injured   \n",
       "62223 2021-06-09     Sam Merrill    Bucks  Injured   \n",
       "62237 2021-06-16      Chris Paul     Suns  Injured   \n",
       "62240 2021-06-23  Justin Jackson    Bucks  Injured   \n",
       "\n",
       "                                            Notes   bbref_id  from    to  pos  \\\n",
       "356                                  placed on IL  rollitr01  1978  1995    C   \n",
       "368                                  placed on IL  rollitr01  1978  1995    C   \n",
       "370                          sprained ankle (DTD)  mahorri01  1981  1999  C-F   \n",
       "377                                  placed on IL   longjo01  1979  1997  G-F   \n",
       "387                 placed on IL with knee injury   longjo01  1979  1997  G-F   \n",
       "...                                           ...        ...   ...   ...  ...   \n",
       "62219         placed on IL with left thigh injury  nworajo01  2021  2021    F   \n",
       "62221  placed on IL with strained right hamstring  conlemi01  2008  2021    G   \n",
       "62223      placed on IL with sprained right ankle  merrisa01  2021  2021    G   \n",
       "62237        placed on IL with COVID-19 protocols   paulch01  2006  2021    G   \n",
       "62240                  sprained right ankle (DTD)  jacksju01  2018  2021  G-F   \n",
       "\n",
       "       height  ...    age  Season  Return_Date Inj_Duration New_Inj  \\\n",
       "356        85  ...  25.32    1981   1980-10-24      15 days       1   \n",
       "368        85  ...  25.40    1981   1980-11-18      11 days       1   \n",
       "370        82  ...  22.16    1981   1980-11-21       4 days       1   \n",
       "377        77  ...  24.27    1981   1980-12-17      12 days       1   \n",
       "387        77  ...  24.32    1981   1981-01-02      12 days       1   \n",
       "...       ...  ...    ...     ...          ...          ...     ...   \n",
       "62219      80  ...  22.74    2021   2021-06-25      18 days       1   \n",
       "62221      73  ...  33.66    2021   2021-06-18      10 days       1   \n",
       "62223      76  ...  25.07    2021   2021-06-13       4 days       1   \n",
       "62237      72  ...  36.11    2021   2021-06-24       8 days       1   \n",
       "62240      80  ...  26.24    2021   2021-06-25       2 days       1   \n",
       "\n",
       "       Out_of_NBA  Career  League_Years  Num_Inj_Career  Num_Inj_Season  \n",
       "356             0       0             3               1               1  \n",
       "368             0       0             3               2               2  \n",
       "370             0       0             0               1               1  \n",
       "377             0       0             2               1               1  \n",
       "387             0       0             2               2               2  \n",
       "...           ...     ...           ...             ...             ...  \n",
       "62219           0       0             0               2               2  \n",
       "62221           0       0            13              46               9  \n",
       "62223           0       0             0               2               2  \n",
       "62237           0       0            15              43               2  \n",
       "62240           0       0             3               2               1  \n",
       "\n",
       "[25096 rows x 21 columns]"
      ],
      "text/html": "<div>\n<style scoped>\n    .dataframe tbody tr th:only-of-type {\n        vertical-align: middle;\n    }\n\n    .dataframe tbody tr th {\n        vertical-align: top;\n    }\n\n    .dataframe thead th {\n        text-align: right;\n    }\n</style>\n<table border=\"1\" class=\"dataframe\">\n  <thead>\n    <tr style=\"text-align: right;\">\n      <th></th>\n      <th>Date</th>\n      <th>player</th>\n      <th>Team</th>\n      <th>Status</th>\n      <th>Notes</th>\n      <th>bbref_id</th>\n      <th>from</th>\n      <th>to</th>\n      <th>pos</th>\n      <th>height</th>\n      <th>...</th>\n      <th>age</th>\n      <th>Season</th>\n      <th>Return_Date</th>\n      <th>Inj_Duration</th>\n      <th>New_Inj</th>\n      <th>Out_of_NBA</th>\n      <th>Career</th>\n      <th>League_Years</th>\n      <th>Num_Inj_Career</th>\n      <th>Num_Inj_Season</th>\n    </tr>\n  </thead>\n  <tbody>\n    <tr>\n      <th>356</th>\n      <td>1980-10-09</td>\n      <td>Tree Rollins</td>\n      <td>Hawks</td>\n      <td>Injured</td>\n      <td>placed on IL</td>\n      <td>rollitr01</td>\n      <td>1978</td>\n      <td>1995</td>\n      <td>C</td>\n      <td>85</td>\n      <td>...</td>\n      <td>25.32</td>\n      <td>1981</td>\n      <td>1980-10-24</td>\n      <td>15 days</td>\n      <td>1</td>\n      <td>0</td>\n      <td>0</td>\n      <td>3</td>\n      <td>1</td>\n      <td>1</td>\n    </tr>\n    <tr>\n      <th>368</th>\n      <td>1980-11-07</td>\n      <td>Tree Rollins</td>\n      <td>Hawks</td>\n      <td>Injured</td>\n      <td>placed on IL</td>\n      <td>rollitr01</td>\n      <td>1978</td>\n      <td>1995</td>\n      <td>C</td>\n      <td>85</td>\n      <td>...</td>\n      <td>25.40</td>\n      <td>1981</td>\n      <td>1980-11-18</td>\n      <td>11 days</td>\n      <td>1</td>\n      <td>0</td>\n      <td>0</td>\n      <td>3</td>\n      <td>2</td>\n      <td>2</td>\n    </tr>\n    <tr>\n      <th>370</th>\n      <td>1980-11-17</td>\n      <td>Rick Mahorn</td>\n      <td>Bullets</td>\n      <td>Injured</td>\n      <td>sprained ankle (DTD)</td>\n      <td>mahorri01</td>\n      <td>1981</td>\n      <td>1999</td>\n      <td>C-F</td>\n      <td>82</td>\n      <td>...</td>\n      <td>22.16</td>\n      <td>1981</td>\n      <td>1980-11-21</td>\n      <td>4 days</td>\n      <td>1</td>\n      <td>0</td>\n      <td>0</td>\n      <td>0</td>\n      <td>1</td>\n      <td>1</td>\n    </tr>\n    <tr>\n      <th>377</th>\n      <td>1980-12-05</td>\n      <td>John Long</td>\n      <td>Pistons</td>\n      <td>Injured</td>\n      <td>placed on IL</td>\n      <td>longjo01</td>\n      <td>1979</td>\n      <td>1997</td>\n      <td>G-F</td>\n      <td>77</td>\n      <td>...</td>\n      <td>24.27</td>\n      <td>1981</td>\n      <td>1980-12-17</td>\n      <td>12 days</td>\n      <td>1</td>\n      <td>0</td>\n      <td>0</td>\n      <td>2</td>\n      <td>1</td>\n      <td>1</td>\n    </tr>\n    <tr>\n      <th>387</th>\n      <td>1980-12-21</td>\n      <td>John Long</td>\n      <td>Pistons</td>\n      <td>Injured</td>\n      <td>placed on IL with knee injury</td>\n      <td>longjo01</td>\n      <td>1979</td>\n      <td>1997</td>\n      <td>G-F</td>\n      <td>77</td>\n      <td>...</td>\n      <td>24.32</td>\n      <td>1981</td>\n      <td>1981-01-02</td>\n      <td>12 days</td>\n      <td>1</td>\n      <td>0</td>\n      <td>0</td>\n      <td>2</td>\n      <td>2</td>\n      <td>2</td>\n    </tr>\n    <tr>\n      <th>...</th>\n      <td>...</td>\n      <td>...</td>\n      <td>...</td>\n      <td>...</td>\n      <td>...</td>\n      <td>...</td>\n      <td>...</td>\n      <td>...</td>\n      <td>...</td>\n      <td>...</td>\n      <td>...</td>\n      <td>...</td>\n      <td>...</td>\n      <td>...</td>\n      <td>...</td>\n      <td>...</td>\n      <td>...</td>\n      <td>...</td>\n      <td>...</td>\n      <td>...</td>\n      <td>...</td>\n    </tr>\n    <tr>\n      <th>62219</th>\n      <td>2021-06-07</td>\n      <td>Jordan Nwora</td>\n      <td>Bucks</td>\n      <td>Injured</td>\n      <td>placed on IL with left thigh injury</td>\n      <td>nworajo01</td>\n      <td>2021</td>\n      <td>2021</td>\n      <td>F</td>\n      <td>80</td>\n      <td>...</td>\n      <td>22.74</td>\n      <td>2021</td>\n      <td>2021-06-25</td>\n      <td>18 days</td>\n      <td>1</td>\n      <td>0</td>\n      <td>0</td>\n      <td>0</td>\n      <td>2</td>\n      <td>2</td>\n    </tr>\n    <tr>\n      <th>62221</th>\n      <td>2021-06-08</td>\n      <td>Mike Conley</td>\n      <td>Jazz</td>\n      <td>Injured</td>\n      <td>placed on IL with strained right hamstring</td>\n      <td>conlemi01</td>\n      <td>2008</td>\n      <td>2021</td>\n      <td>G</td>\n      <td>73</td>\n      <td>...</td>\n      <td>33.66</td>\n      <td>2021</td>\n      <td>2021-06-18</td>\n      <td>10 days</td>\n      <td>1</td>\n      <td>0</td>\n      <td>0</td>\n      <td>13</td>\n      <td>46</td>\n      <td>9</td>\n    </tr>\n    <tr>\n      <th>62223</th>\n      <td>2021-06-09</td>\n      <td>Sam Merrill</td>\n      <td>Bucks</td>\n      <td>Injured</td>\n      <td>placed on IL with sprained right ankle</td>\n      <td>merrisa01</td>\n      <td>2021</td>\n      <td>2021</td>\n      <td>G</td>\n      <td>76</td>\n      <td>...</td>\n      <td>25.07</td>\n      <td>2021</td>\n      <td>2021-06-13</td>\n      <td>4 days</td>\n      <td>1</td>\n      <td>0</td>\n      <td>0</td>\n      <td>0</td>\n      <td>2</td>\n      <td>2</td>\n    </tr>\n    <tr>\n      <th>62237</th>\n      <td>2021-06-16</td>\n      <td>Chris Paul</td>\n      <td>Suns</td>\n      <td>Injured</td>\n      <td>placed on IL with COVID-19 protocols</td>\n      <td>paulch01</td>\n      <td>2006</td>\n      <td>2021</td>\n      <td>G</td>\n      <td>72</td>\n      <td>...</td>\n      <td>36.11</td>\n      <td>2021</td>\n      <td>2021-06-24</td>\n      <td>8 days</td>\n      <td>1</td>\n      <td>0</td>\n      <td>0</td>\n      <td>15</td>\n      <td>43</td>\n      <td>2</td>\n    </tr>\n    <tr>\n      <th>62240</th>\n      <td>2021-06-23</td>\n      <td>Justin Jackson</td>\n      <td>Bucks</td>\n      <td>Injured</td>\n      <td>sprained right ankle (DTD)</td>\n      <td>jacksju01</td>\n      <td>2018</td>\n      <td>2021</td>\n      <td>G-F</td>\n      <td>80</td>\n      <td>...</td>\n      <td>26.24</td>\n      <td>2021</td>\n      <td>2021-06-25</td>\n      <td>2 days</td>\n      <td>1</td>\n      <td>0</td>\n      <td>0</td>\n      <td>3</td>\n      <td>2</td>\n      <td>1</td>\n    </tr>\n  </tbody>\n</table>\n<p>25096 rows × 21 columns</p>\n</div>"
     },
     "metadata": {},
     "execution_count": 131
    }
   ],
   "source": [
    "df_new = df[df.New_Inj == True].copy()\n",
    "df_new"
   ]
  },
  {
   "cell_type": "code",
   "execution_count": 143,
   "metadata": {},
   "outputs": [],
   "source": [
    "notes = df.Notes\n",
    "notes_list = notes.tolist()\n",
    "notes_new = df_new.Notes\n"
   ]
  },
  {
   "cell_type": "code",
   "execution_count": 144,
   "metadata": {},
   "outputs": [
    {
     "output_type": "execute_result",
     "data": {
      "text/plain": [
       "356                                       [placed, on, il]\n",
       "368                                       [placed, on, il]\n",
       "370                           [sprained, ankle, (, dtd, )]\n",
       "377                                       [placed, on, il]\n",
       "387                   [placed, on, il, with, knee, injury]\n",
       "                               ...                        \n",
       "62219          [placed, on, il, with, left, thigh, injury]\n",
       "62221    [placed, on, il, with, strained, right, hamstr...\n",
       "62223       [placed, on, il, with, sprained, right, ankle]\n",
       "62237          [placed, on, il, with, covid-19, protocols]\n",
       "62240                  [sprained, right, ankle, (, dtd, )]\n",
       "Name: Notes, Length: 43099, dtype: object"
      ]
     },
     "metadata": {},
     "execution_count": 144
    }
   ],
   "source": [
    "tokens = notes.apply(lambda x: word_tokenize(x.lower()))\n",
    "tokens_new = notes_new.apply(lambda x: word_tokenize(x.lower()))\n",
    "tokens"
   ]
  },
  {
   "cell_type": "code",
   "execution_count": 145,
   "metadata": {},
   "outputs": [
    {
     "output_type": "execute_result",
     "data": {
      "text/plain": [
       "356                                  [placed, il]\n",
       "368                                  [placed, il]\n",
       "370                        [sprained, ankle, dtd]\n",
       "377                                  [placed, il]\n",
       "387                    [placed, il, knee, injury]\n",
       "                           ...                   \n",
       "62219           [placed, il, left, thigh, injury]\n",
       "62221    [placed, il, strained, right, hamstring]\n",
       "62223        [placed, il, sprained, right, ankle]\n",
       "62237           [placed, il, covid-19, protocols]\n",
       "62240               [sprained, right, ankle, dtd]\n",
       "Name: Notes, Length: 43099, dtype: object"
      ]
     },
     "metadata": {},
     "execution_count": 145
    }
   ],
   "source": [
    "punctuation_ = set(string.punctuation)\n",
    "def filter_tokens(sent):\n",
    "    return([w for w in sent if not w in stopwords_ and not w in punctuation_])\n",
    "tokens_filtered = tokens.apply(lambda x: filter_tokens(x))\n",
    "tokens_filtered_new = tokens_new.apply(lambda x: filter_tokens(x))\n",
    "tokens_filtered"
   ]
  },
  {
   "cell_type": "code",
   "execution_count": 146,
   "metadata": {},
   "outputs": [],
   "source": [
    "stemmer_porter, stemmer_snowball, lemmatizer = PorterStemmer(), SnowballStemmer('english'),WordNetLemmatizer()\n",
    "tokens_stemporter = tokens_filtered.apply(lambda x: [stemmer_porter.stem(w) for w in x])\n",
    "tokens_stemsnowball = tokens_filtered.apply(lambda x: [stemmer_snowball.stem(w) for w in x])\n",
    "tokens_lemmatizer = tokens_filtered.apply(lambda x: [lemmatizer.lemmatize(w) for w in x])\n",
    "tokens_stemporter_new = tokens_filtered_new.apply(lambda x: [stemmer_porter.stem(w) for w in x])\n",
    "tokens_stemsnowball_new = tokens_filtered_new.apply(lambda x: [stemmer_snowball.stem(w) for w in x])\n",
    "tokens_lemmatizer_new = tokens_filtered_new.apply(lambda x: [lemmatizer.lemmatize(w) for w in x])"
   ]
  },
  {
   "cell_type": "code",
   "execution_count": 150,
   "metadata": {},
   "outputs": [
    {
     "output_type": "execute_result",
     "data": {
      "text/plain": [
       "                               porter_new                        snowball_new  \\\n",
       "356                           [place, il]                         [place, il]   \n",
       "368                           [place, il]                         [place, il]   \n",
       "370                   [sprain, ankl, dtd]                 [sprain, ankl, dtd]   \n",
       "377                           [place, il]                         [place, il]   \n",
       "387             [place, il, knee, injuri]           [place, il, knee, injuri]   \n",
       "...                                   ...                                 ...   \n",
       "62219    [place, il, left, thigh, injuri]    [place, il, left, thigh, injuri]   \n",
       "62221  [place, il, strain, right, hamstr]  [place, il, strain, right, hamstr]   \n",
       "62223    [place, il, sprain, right, ankl]    [place, il, sprain, right, ankl]   \n",
       "62237     [place, il, covid-19, protocol]     [place, il, covid-19, protocol]   \n",
       "62240          [sprain, right, ankl, dtd]          [sprain, right, ankl, dtd]   \n",
       "\n",
       "                                 lemmatizer_new  \n",
       "356                                [placed, il]  \n",
       "368                                [placed, il]  \n",
       "370                      [sprained, ankle, dtd]  \n",
       "377                                [placed, il]  \n",
       "387                  [placed, il, knee, injury]  \n",
       "...                                         ...  \n",
       "62219         [placed, il, left, thigh, injury]  \n",
       "62221  [placed, il, strained, right, hamstring]  \n",
       "62223      [placed, il, sprained, right, ankle]  \n",
       "62237          [placed, il, covid-19, protocol]  \n",
       "62240             [sprained, right, ankle, dtd]  \n",
       "\n",
       "[25096 rows x 3 columns]"
      ],
      "text/html": "<div>\n<style scoped>\n    .dataframe tbody tr th:only-of-type {\n        vertical-align: middle;\n    }\n\n    .dataframe tbody tr th {\n        vertical-align: top;\n    }\n\n    .dataframe thead th {\n        text-align: right;\n    }\n</style>\n<table border=\"1\" class=\"dataframe\">\n  <thead>\n    <tr style=\"text-align: right;\">\n      <th></th>\n      <th>porter_new</th>\n      <th>snowball_new</th>\n      <th>lemmatizer_new</th>\n    </tr>\n  </thead>\n  <tbody>\n    <tr>\n      <th>356</th>\n      <td>[place, il]</td>\n      <td>[place, il]</td>\n      <td>[placed, il]</td>\n    </tr>\n    <tr>\n      <th>368</th>\n      <td>[place, il]</td>\n      <td>[place, il]</td>\n      <td>[placed, il]</td>\n    </tr>\n    <tr>\n      <th>370</th>\n      <td>[sprain, ankl, dtd]</td>\n      <td>[sprain, ankl, dtd]</td>\n      <td>[sprained, ankle, dtd]</td>\n    </tr>\n    <tr>\n      <th>377</th>\n      <td>[place, il]</td>\n      <td>[place, il]</td>\n      <td>[placed, il]</td>\n    </tr>\n    <tr>\n      <th>387</th>\n      <td>[place, il, knee, injuri]</td>\n      <td>[place, il, knee, injuri]</td>\n      <td>[placed, il, knee, injury]</td>\n    </tr>\n    <tr>\n      <th>...</th>\n      <td>...</td>\n      <td>...</td>\n      <td>...</td>\n    </tr>\n    <tr>\n      <th>62219</th>\n      <td>[place, il, left, thigh, injuri]</td>\n      <td>[place, il, left, thigh, injuri]</td>\n      <td>[placed, il, left, thigh, injury]</td>\n    </tr>\n    <tr>\n      <th>62221</th>\n      <td>[place, il, strain, right, hamstr]</td>\n      <td>[place, il, strain, right, hamstr]</td>\n      <td>[placed, il, strained, right, hamstring]</td>\n    </tr>\n    <tr>\n      <th>62223</th>\n      <td>[place, il, sprain, right, ankl]</td>\n      <td>[place, il, sprain, right, ankl]</td>\n      <td>[placed, il, sprained, right, ankle]</td>\n    </tr>\n    <tr>\n      <th>62237</th>\n      <td>[place, il, covid-19, protocol]</td>\n      <td>[place, il, covid-19, protocol]</td>\n      <td>[placed, il, covid-19, protocol]</td>\n    </tr>\n    <tr>\n      <th>62240</th>\n      <td>[sprain, right, ankl, dtd]</td>\n      <td>[sprain, right, ankl, dtd]</td>\n      <td>[sprained, right, ankle, dtd]</td>\n    </tr>\n  </tbody>\n</table>\n<p>25096 rows × 3 columns</p>\n</div>"
     },
     "metadata": {},
     "execution_count": 150
    }
   ],
   "source": [
    "stem_lemm_df = pd.DataFrame({'porter':tokens_stemporter, 'snowball':tokens_stemsnowball, 'lemmatizer': tokens_lemmatizer})\n",
    "stem_lemm_df_new = pd.DataFrame({'porter_new':tokens_stemporter_new, 'snowball_new':tokens_stemsnowball_new, 'lemmatizer_new': tokens_lemmatizer_new})\n",
    "\n",
    "\n",
    "stem_lemm_df\n",
    "stem_lemm_df_new"
   ]
  },
  {
   "cell_type": "code",
   "execution_count": 151,
   "metadata": {},
   "outputs": [
    {
     "output_type": "execute_result",
     "data": {
      "text/plain": [
       "                                            porter_new  \\\n",
       "1160                              [stomach, viru, dtd]   \n",
       "1359   [small, tear, later, meniscu, right, knee, dtd]   \n",
       "1443       [ruptur, right, achil, tendon, out, season]   \n",
       "1604              [injuri, sinu, caviti, out, 10, day]   \n",
       "1611                             [torn, achil, tendon]   \n",
       "...                                                ...   \n",
       "62057                [place, il, right, achil, injuri]   \n",
       "62061                      [right, achil, injuri, dtd]   \n",
       "62084                 [place, il, left, achil, injuri]   \n",
       "62129                 [place, il, left, achil, injuri]   \n",
       "62211          [place, il, torn, meniscu, right, knee]   \n",
       "\n",
       "                                           snowball_new  \\\n",
       "1160                              [stomach, virus, dtd]   \n",
       "1359   [small, tear, later, meniscus, right, knee, dtd]   \n",
       "1443       [ruptur, right, achill, tendon, out, season]   \n",
       "1604              [injuri, sinus, caviti, out, 10, day]   \n",
       "1611                             [torn, achill, tendon]   \n",
       "...                                                 ...   \n",
       "62057                [place, il, right, achill, injuri]   \n",
       "62061                      [right, achill, injuri, dtd]   \n",
       "62084                 [place, il, left, achill, injuri]   \n",
       "62129                 [place, il, left, achill, injuri]   \n",
       "62211          [place, il, torn, meniscus, right, knee]   \n",
       "\n",
       "                                          lemmatizer_new  \n",
       "1160                               [stomach, virus, dtd]  \n",
       "1359   [small, tear, lateral, meniscus, right, knee, ...  \n",
       "1443    [ruptured, right, achilles, tendon, out, season]  \n",
       "1604               [injury, sinus, cavity, out, 10, day]  \n",
       "1611                            [torn, achilles, tendon]  \n",
       "...                                                  ...  \n",
       "62057              [placed, il, right, achilles, injury]  \n",
       "62061                     [right, achilles, injury, dtd]  \n",
       "62084               [placed, il, left, achilles, injury]  \n",
       "62129               [placed, il, left, achilles, injury]  \n",
       "62211          [placed, il, torn, meniscus, right, knee]  \n",
       "\n",
       "[724 rows x 3 columns]"
      ],
      "text/html": "<div>\n<style scoped>\n    .dataframe tbody tr th:only-of-type {\n        vertical-align: middle;\n    }\n\n    .dataframe tbody tr th {\n        vertical-align: top;\n    }\n\n    .dataframe thead th {\n        text-align: right;\n    }\n</style>\n<table border=\"1\" class=\"dataframe\">\n  <thead>\n    <tr style=\"text-align: right;\">\n      <th></th>\n      <th>porter_new</th>\n      <th>snowball_new</th>\n      <th>lemmatizer_new</th>\n    </tr>\n  </thead>\n  <tbody>\n    <tr>\n      <th>1160</th>\n      <td>[stomach, viru, dtd]</td>\n      <td>[stomach, virus, dtd]</td>\n      <td>[stomach, virus, dtd]</td>\n    </tr>\n    <tr>\n      <th>1359</th>\n      <td>[small, tear, later, meniscu, right, knee, dtd]</td>\n      <td>[small, tear, later, meniscus, right, knee, dtd]</td>\n      <td>[small, tear, lateral, meniscus, right, knee, ...</td>\n    </tr>\n    <tr>\n      <th>1443</th>\n      <td>[ruptur, right, achil, tendon, out, season]</td>\n      <td>[ruptur, right, achill, tendon, out, season]</td>\n      <td>[ruptured, right, achilles, tendon, out, season]</td>\n    </tr>\n    <tr>\n      <th>1604</th>\n      <td>[injuri, sinu, caviti, out, 10, day]</td>\n      <td>[injuri, sinus, caviti, out, 10, day]</td>\n      <td>[injury, sinus, cavity, out, 10, day]</td>\n    </tr>\n    <tr>\n      <th>1611</th>\n      <td>[torn, achil, tendon]</td>\n      <td>[torn, achill, tendon]</td>\n      <td>[torn, achilles, tendon]</td>\n    </tr>\n    <tr>\n      <th>...</th>\n      <td>...</td>\n      <td>...</td>\n      <td>...</td>\n    </tr>\n    <tr>\n      <th>62057</th>\n      <td>[place, il, right, achil, injuri]</td>\n      <td>[place, il, right, achill, injuri]</td>\n      <td>[placed, il, right, achilles, injury]</td>\n    </tr>\n    <tr>\n      <th>62061</th>\n      <td>[right, achil, injuri, dtd]</td>\n      <td>[right, achill, injuri, dtd]</td>\n      <td>[right, achilles, injury, dtd]</td>\n    </tr>\n    <tr>\n      <th>62084</th>\n      <td>[place, il, left, achil, injuri]</td>\n      <td>[place, il, left, achill, injuri]</td>\n      <td>[placed, il, left, achilles, injury]</td>\n    </tr>\n    <tr>\n      <th>62129</th>\n      <td>[place, il, left, achil, injuri]</td>\n      <td>[place, il, left, achill, injuri]</td>\n      <td>[placed, il, left, achilles, injury]</td>\n    </tr>\n    <tr>\n      <th>62211</th>\n      <td>[place, il, torn, meniscu, right, knee]</td>\n      <td>[place, il, torn, meniscus, right, knee]</td>\n      <td>[placed, il, torn, meniscus, right, knee]</td>\n    </tr>\n  </tbody>\n</table>\n<p>724 rows × 3 columns</p>\n</div>"
     },
     "metadata": {},
     "execution_count": 151
    }
   ],
   "source": [
    "stem_lemm_df[tokens_stemporter != tokens_stemsnowball]\n",
    "stem_lemm_df_new[tokens_stemporter_new != tokens_stemsnowball_new]"
   ]
  },
  {
   "cell_type": "code",
   "execution_count": 157,
   "metadata": {},
   "outputs": [
    {
     "output_type": "stream",
     "name": "stdout",
     "text": [
      "[('dnp', 18429), ('place', 16877), ('il', 16115), ('left', 12825), ('right', 12810), ('knee', 7278), ('sprain', 6715), ('ankl', 5885), ('sore', 4904), ('strain', 4834), ('dtd', 4800), ('injuri', 3702), ('back', 3168), ('out', 3074), ('surgeri', 2661), ('bruis', 2329), ('foot', 2224), ('lower', 1520), ('hamstr', 1509), ('season', 1494), ('fractur', 1437), ('torn', 1342), ('tendin', 1299), ('shoulder', 1295), ('groin', 1212), ('recov', 1124), ('spasm', 1034), ('repair', 1015), ('calf', 983), ('hip', 970), ('indefinit', 909), ('flu', 907), ('ill', 816), ('achil', 795), ('rest', 776), ('wrist', 768), ('tendon', 763), ('ir', 762), ('bone', 722), ('toe', 567), ('thumb', 564), ('hand', 545), ('week', 544), ('broken', 524), ('quadricep', 515), ('elbow', 481), ('finger', 480), ('stress', 458), ('concuss', 455), ('leg', 427), ('arthroscop', 398), ('plantar', 364), ('muscl', 363), ('abdomin', 341), ('infect', 319), ('stomach', 313), ('thigh', 306), ('big', 305), ('acl', 299), ('ligament', 293), ('remov', 292), ('p', 291), ('patella', 277), ('mcl', 275), ('heel', 270), ('neck', 268), ('meniscu', 266), ('flexor', 226), ('inflamm', 218), ('nba', 216), ('disloc', 213), ('protocol', 213), ('rib', 212), ('health', 208), ('safeti', 208)] \n\n[('dnp', 18429), ('place', 16877), ('il', 16115), ('left', 12825), ('right', 12810), ('knee', 7278), ('sprain', 6715), ('ankl', 5885), ('sore', 4904), ('strain', 4834), ('dtd', 4800), ('injuri', 3702), ('back', 3168), ('out', 3074), ('surgeri', 2661), ('bruis', 2329), ('foot', 2224), ('lower', 1520), ('hamstr', 1509), ('season', 1494), ('fractur', 1437), ('torn', 1342), ('tendin', 1299), ('shoulder', 1295), ('groin', 1212), ('recov', 1124), ('spasm', 1034), ('repair', 1015), ('calf', 983), ('hip', 970), ('indefinit', 909), ('flu', 907), ('ill', 816), ('achill', 793), ('rest', 776), ('wrist', 768), ('tendon', 763), ('ir', 762), ('bone', 722), ('toe', 567), ('thumb', 564), ('hand', 545), ('week', 544), ('broken', 524), ('quadricep', 515), ('elbow', 481), ('finger', 480), ('stress', 458), ('concuss', 455), ('leg', 427), ('arthroscop', 398), ('plantar', 364), ('muscl', 363), ('abdomin', 341), ('infect', 319), ('stomach', 313), ('thigh', 306), ('big', 305), ('acl', 299), ('ligament', 293), ('remov', 292), ('p', 291), ('patella', 277), ('mcl', 275), ('heel', 270), ('neck', 268), ('meniscus', 266), ('flexor', 226), ('inflamm', 218), ('nba', 216), ('disloc', 213), ('protocol', 213), ('rib', 212), ('health', 208), ('safeti', 208)] \n\n[('dnp', 18429), ('placed', 16871), ('il', 16115), ('left', 12825), ('right', 12810), ('knee', 7278), ('sprained', 6671), ('ankle', 5885), ('sore', 4888), ('dtd', 4800), ('strained', 4589), ('injury', 3702), ('back', 3168), ('out', 3074), ('surgery', 2661), ('foot', 2252), ('bruised', 2078), ('lower', 1520), ('hamstring', 1509), ('season', 1494), ('torn', 1342), ('tendinitis', 1299), ('shoulder', 1295), ('groin', 1212), ('recovering', 1124), ('spasm', 1034), ('repair', 1014), ('calf', 983), ('hip', 970), ('fractured', 914), ('indefinitely', 908), ('flu', 907), ('achilles', 793), ('rest', 774), ('wrist', 768), ('illness', 765), ('tendon', 762), ('ir', 762), ('bone', 722), ('toe', 567), ('thumb', 564), ('hand', 545), ('week', 544), ('broken', 524), ('fracture', 523), ('elbow', 481), ('finger', 480), ('stress', 458), ('concussion', 455), ('leg', 427), ('arthroscopic', 398), ('plantar', 364), ('muscle', 363), ('abdominal', 341), ('stomach', 313), ('thigh', 306), ('quadriceps', 306), ('big', 305), ('infection', 300), ('acl', 299), ('ligament', 293), ('p', 291), ('remove', 285), ('patella', 277), ('mcl', 275), ('heel', 270), ('neck', 268), ('meniscus', 266), ('bruise', 250), ('strain', 245), ('flexor', 226), ('inflammation', 218), ('nba', 216), ('protocol', 213), ('rib', 212)] \n\n"
     ]
    }
   ],
   "source": [
    "for token in [tokens_stemporter, tokens_stemsnowball, tokens_lemmatizer]:\n",
    "    term_occurance = Counter(x for row in token for x in row)\n",
    "    print(term_occurance.most_common(75),'\\n')"
   ]
  },
  {
   "cell_type": "code",
   "execution_count": 156,
   "metadata": {},
   "outputs": [
    {
     "output_type": "stream",
     "name": "stdout",
     "text": [
      "[('place', 11896), ('il', 11436), ('dnp', 7102), ('left', 6508), ('right', 6383), ('dtd', 4145), ('knee', 3711), ('sprain', 3517), ('ankl', 3177), ('sore', 2865), ('injuri', 2512), ('strain', 2300), ('back', 1896), ('out', 1885), ('bruis', 1337), ('foot', 987), ('lower', 845), ('tendin', 829), ('season', 825), ('hamstr', 757), ('rest', 727), ('shoulder', 712), ('surgeri', 703), ('flu', 697), ('spasm', 680), ('ill', 670), ('indefinit', 625), ('groin', 589), ('hip', 574), ('calf', 528), ('fractur', 504), ('torn', 474), ('ir', 460), ('achil', 423), ('wrist', 394), ('week', 359), ('quadricep', 316), ('toe', 308), ('tendon', 303), ('thumb', 290), ('finger', 276), ('bone', 270), ('hand', 258), ('concuss', 254), ('broken', 252), ('stomach', 245), ('repair', 239), ('elbow', 239), ('leg', 221), ('thigh', 185), ('infect', 183), ('nba', 175), ('protocol', 171), ('health', 168), ('safeti', 168), ('neck', 167), ('muscl', 161), ('arthroscop', 159), ('viru', 156), ('patella', 156), ('plantar', 154), ('big', 152), ('heel', 147), ('p', 130), ('stress', 128), ('mcl', 127), ('abdomin', 126), ('rib', 126), ('remov', 126), ('flexor', 122), ('cbc', 120), ('ligament', 119), ('inflamm', 107), ('respiratori', 106), ('symptom', 105)] \n\n[('place', 11896), ('il', 11436), ('dnp', 7102), ('left', 6508), ('right', 6383), ('dtd', 4145), ('knee', 3711), ('sprain', 3517), ('ankl', 3177), ('sore', 2865), ('injuri', 2512), ('strain', 2300), ('back', 1896), ('out', 1885), ('bruis', 1337), ('foot', 987), ('lower', 845), ('tendin', 829), ('season', 825), ('hamstr', 757), ('rest', 727), ('shoulder', 712), ('surgeri', 703), ('flu', 697), ('spasm', 680), ('ill', 670), ('indefinit', 625), ('groin', 589), ('hip', 574), ('calf', 528), ('fractur', 504), ('torn', 474), ('ir', 460), ('achill', 421), ('wrist', 394), ('week', 359), ('quadricep', 316), ('toe', 308), ('tendon', 303), ('thumb', 290), ('finger', 276), ('bone', 270), ('hand', 258), ('concuss', 254), ('broken', 252), ('stomach', 245), ('repair', 239), ('elbow', 239), ('leg', 221), ('thigh', 185), ('infect', 183), ('nba', 175), ('protocol', 171), ('health', 168), ('safeti', 168), ('neck', 167), ('muscl', 161), ('arthroscop', 159), ('virus', 156), ('patella', 156), ('plantar', 154), ('big', 152), ('heel', 147), ('p', 130), ('stress', 128), ('mcl', 127), ('abdomin', 126), ('rib', 126), ('remov', 126), ('flexor', 122), ('cbc', 120), ('ligament', 119), ('inflamm', 107), ('respiratori', 106), ('symptom', 105)] \n\n[('placed', 11893), ('il', 11436), ('dnp', 7102), ('left', 6508), ('right', 6383), ('dtd', 4145), ('knee', 3711), ('sprained', 3490), ('ankle', 3177), ('sore', 2850), ('injury', 2512), ('strained', 2195), ('back', 1896), ('out', 1885), ('bruised', 1240), ('foot', 995), ('lower', 845), ('tendinitis', 829), ('season', 825), ('hamstring', 757), ('rest', 725), ('shoulder', 712), ('surgery', 703), ('flu', 697), ('spasm', 680), ('illness', 631), ('indefinitely', 624), ('groin', 589), ('hip', 574), ('calf', 528), ('torn', 474), ('ir', 460), ('achilles', 421), ('wrist', 394), ('week', 359), ('fractured', 351), ('toe', 308), ('tendon', 302), ('thumb', 290), ('finger', 276), ('bone', 270), ('hand', 258), ('concussion', 254), ('broken', 252), ('stomach', 245), ('repair', 239), ('elbow', 239), ('leg', 221), ('thigh', 185), ('quadriceps', 182), ('nba', 175), ('infection', 171), ('protocol', 171), ('health', 168), ('safety', 168), ('neck', 167), ('muscle', 161), ('arthroscopic', 159), ('virus', 156), ('patella', 156), ('plantar', 154), ('fracture', 153), ('big', 152), ('heel', 147), ('quadricep', 134), ('p', 130), ('stress', 128), ('mcl', 127), ('abdominal', 126), ('rib', 126), ('flexor', 122), ('remove', 120), ('cbc', 120), ('ligament', 119), ('inflammation', 107)] \n\n"
     ]
    }
   ],
   "source": [
    "for token in [tokens_stemporter_new, tokens_stemsnowball_new, tokens_lemmatizer_new]:\n",
    "    term_occurance = Counter(x for row in token for x in row)\n",
    "    print(term_occurance.most_common(75),'\\n')\n"
   ]
  },
  {
   "cell_type": "code",
   "execution_count": null,
   "metadata": {},
   "outputs": [],
   "source": []
  }
 ]
}